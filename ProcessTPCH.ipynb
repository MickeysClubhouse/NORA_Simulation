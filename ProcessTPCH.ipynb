{
 "cells": [
  {
   "cell_type": "code",
   "execution_count": 21,
   "metadata": {},
   "outputs": [],
   "source": [
    "868580"
   ]
  },
  {
   "cell_type": "code",
   "execution_count": 22,
   "metadata": {},
   "outputs": [],
   "source": [
    "# process the generated data\n",
    "lines = []\n",
    "with open(\"/Users/lizhe/Downloads/2.18.0_rc2/dbgen/lineitem.csv\") as infile:\n",
    "    for line in infile:\n",
    "        fields = line.split('|',8)\n",
    "        f0 = float(fields[0])\n",
    "        f1 = float(fields[1])\n",
    "        f2 = float(fields[2])\n",
    "        f3 = float(fields[3])\n",
    "        f4 = float(fields[4])\n",
    "        f5 = float(fields[5])\n",
    "        f6 = float(fields[6])\n",
    "        f7 = float(fields[7])\n",
    "        lines.append([f0,f1,f2,f3,f4,f5,f6,f7])"
   ]
  },
  {
   "cell_type": "code",
   "execution_count": 23,
   "metadata": {},
   "outputs": [
    {
     "name": "stdout",
     "output_type": "stream",
     "text": [
      "11997996\n",
      "[[1.0, 310379.0, 15395.0, 1.0, 17.0, 23619.12, 0.04, 0.02], [1.0, 134619.0, 14620.0, 2.0, 36.0, 59529.96, 0.09, 0.06], [1.0, 127400.0, 7401.0, 3.0, 8.0, 11419.2, 0.1, 0.02], [1.0, 4263.0, 9264.0, 4.0, 28.0, 32683.28, 0.09, 0.06], [1.0, 48054.0, 3061.0, 5.0, 24.0, 24049.2, 0.1, 0.04], [1.0, 31269.0, 1272.0, 6.0, 32.0, 38408.32, 0.07, 0.02], [2.0, 212340.0, 2361.0, 1.0, 38.0, 47588.54, 0.0, 0.05], [3.0, 8594.0, 3595.0, 1.0, 45.0, 67616.55, 0.06, 0.0], [3.0, 38071.0, 13075.0, 2.0, 49.0, 49444.43, 0.1, 0.0], [3.0, 256897.0, 6922.0, 3.0, 27.0, 50054.76, 0.06, 0.07]]\n"
     ]
    }
   ],
   "source": [
    "print(len(lines))\n",
    "print(lines[0:10])"
   ]
  },
  {
   "cell_type": "code",
   "execution_count": 24,
   "metadata": {},
   "outputs": [],
   "source": [
    "# save to csv\n",
    "np.savetxt('/Users/lizhe/Desktop/LearnedKDTree/DataAndWorkload/SyntheticData/TPCH_12M_8Field.csv',lines,delimiter=',')"
   ]
  },
  {
   "cell_type": "code",
   "execution_count": 25,
   "metadata": {},
   "outputs": [
    {
     "name": "stdout",
     "output_type": "stream",
     "text": [
      "[   1.      1.      1.      1.      1.    900.99    0.      0.  ]\n"
     ]
    }
   ],
   "source": [
    "# statistics about min/max for 12M data\n",
    "from numpy import genfromtxt\n",
    "dataset = genfromtxt('/Users/lizhe/Desktop/LearnedKDTree/DataAndWorkload/SyntheticData/TPCH_12M_8Field.csv', delimiter=',')\n",
    "mins = np.amin(dataset, axis=0)\n",
    "print(mins)"
   ]
  },
  {
   "cell_type": "code",
   "execution_count": 26,
   "metadata": {},
   "outputs": [
    {
     "name": "stdout",
     "output_type": "stream",
     "text": [
      "[  1.20000000e+07   4.00000000e+05   2.00000000e+04   7.00000000e+00\n",
      "   5.00000000e+01   1.04899500e+05   1.00000000e-01   8.00000000e-02]\n"
     ]
    }
   ],
   "source": [
    "maxs = np.amax(dataset, axis=0)\n",
    "print(maxs)"
   ]
  },
  {
   "cell_type": "code",
   "execution_count": null,
   "metadata": {},
   "outputs": [],
   "source": []
  }
 ],
 "metadata": {
  "kernelspec": {
   "display_name": "Python 3",
   "language": "python",
   "name": "python3"
  },
  "language_info": {
   "codemirror_mode": {
    "name": "ipython",
    "version": 3
   },
   "file_extension": ".py",
   "mimetype": "text/x-python",
   "name": "python",
   "nbconvert_exporter": "python",
   "pygments_lexer": "ipython3",
   "version": "3.6.3"
  }
 },
 "nbformat": 4,
 "nbformat_minor": 2
}
