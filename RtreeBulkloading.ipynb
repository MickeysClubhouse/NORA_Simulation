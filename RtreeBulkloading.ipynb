{
 "cells": [
  {
   "cell_type": "code",
   "execution_count": 4,
   "metadata": {
    "collapsed": true
   },
   "outputs": [],
   "source": [
    "import numpy as np\n",
    "import rtree\n",
    "from rtree import index"
   ]
  },
  {
   "cell_type": "code",
   "execution_count": null,
   "metadata": {
    "collapsed": true
   },
   "outputs": [],
   "source": [
    "# - dataset: numpy array\n",
    "def DatasetGenerator(dataset):\n",
    "    for i in range(len(dataset)):\n",
    "        yield(i, (dataset[i,0], dataset[i,1], dataset[i,0], dataset[i,1]), dataset[i])\n",
    "    return\n",
    "\n",
    "# Generate Rtree MBRs using Bulk Loading (STR version)\n",
    "# Hilbert R-tree: An improved R-tree using fractals. VLDB 1994\n",
    "# STR: A Simple and Efficient Algorithm for R-Tree Packing. ICDE 1997\n",
    "def GenerateRtreePartitionUsingBulkLoading(dataset, maximum_capacity = 10000):\n",
    "    \n",
    "    p = index.Property()\n",
    "    p.leaf_capacity = maximum_capacity # cannot be less than 100, indicate the maximum capacity\n",
    "    #p.fill_factor = 0.9\n",
    "    p.fill_factor = 0.5\n",
    "    p.overwrite = True\n",
    "\n",
    "    idx = index.Index(DatasetGenerator(dataset), properties = p)\n",
    "    \n",
    "    leaves = idx.leaves()\n",
    "    dims = int(len(leaves[0][2])/2)\n",
    "    \n",
    "    MBRs = []\n",
    "    for i in range(len(leaves)):\n",
    "        mbr = leaves[i][2]\n",
    "        interleaved_mbr = []\n",
    "        for j in range(dims):\n",
    "            interleaved_mbr.append(mbr[j])\n",
    "            interleaved_mbr.append(mbr[j+dims])\n",
    "        interleaved_mbr.append(len(leaves[i][1]))\n",
    "        MBRs.append(interleaved_mbr)\n",
    "                   \n",
    "    MBRs = np.array(MBRs) \n",
    "    return MBRs"
   ]
  },
  {
   "cell_type": "code",
   "execution_count": null,
   "metadata": {
    "collapsed": true
   },
   "outputs": [],
   "source": [
    "# # debug\n",
    "# p = index.Property()\n",
    "# p.leaf_capacity = 10000\n",
    "# p.fill_factor = 0.5\n",
    "# p.overwrite = True\n",
    "\n",
    "# # idx = index.Index(properties = p)\n",
    "# idx = index.Index(DatasetGenerator(dataset),properties = p)\n",
    "\n",
    "# leaves = idx.leaves()\n",
    "# print(len(leaves)) # 171400\n",
    "# print(len(leaves[0][1])) # 70"
   ]
  },
  {
   "cell_type": "code",
   "execution_count": null,
   "metadata": {
    "collapsed": true
   },
   "outputs": [],
   "source": [
    "# reform the partition representation of RTree's MBR into kdnodes\n",
    "# MBR[i, ...]: each line: L1. U1, L2, U2,...,Ln Un, Counts\n",
    "# kdnodes[i][0/1][k][0/1]: i partitions, 0/1 boundary/count  k dimension  0/1 min/max\n",
    "#\n",
    "def PartitionFormalization(RTreePartition):\n",
    "    \n",
    "    dims = int(len(RTreePartition[0])/2)\n",
    "    kdnodes = []\n",
    "    for i in range(len(RTreePartition)):\n",
    "        domains = []\n",
    "        for k in range(dims):\n",
    "            domains.append([ RTreePartition[i,2*k], RTreePartition[i,2*k+1] ])     \n",
    "        kdnodes.append([domains, RTreePartition[i,-1]])\n",
    "    return kdnodes\n",
    "\n",
    "# rtree_partitions = genfromtxt('C:/Users/Cloud/iCloudDrive/HUAWEI_LKD/Dataset/Legacy/data/temp/RTreePartitions_M5K_Dim12.csv', delimiter=',')\n",
    "# rtree_kdnodes = PartitionFormalization(rtree_partitions)"
   ]
  },
  {
   "cell_type": "code",
   "execution_count": 5,
   "metadata": {
    "collapsed": true
   },
   "outputs": [],
   "source": [
    "# Test Rtree Bulk Loading\n",
    "\n",
    "tiny_kdnodes = [ [[[0,10],[0,4]],13], [[[0,10],[4,10]],14] ]\n",
    "\n",
    "def DatasetGenerator(kdnodes):\n",
    "    for i in range(len(kdnodes)):\n",
    "        lower = [domain[0] for domain in kdnodes[i][0]]\n",
    "        upper = [domain[1] for domain in kdnodes[i][0]]\n",
    "        border = tuple(lower + upper) # non interleave\n",
    "        yield(i, border, kdnodes[i][1])\n",
    "    return\n",
    "\n",
    "p = index.Property()\n",
    "p.leaf_capacity = 100 # cannot be less than 100, indicate the maximum capacity\n",
    "p.fill_factor = 0.5\n",
    "p.overwrite = True\n",
    "\n",
    "idx = index.Index(DatasetGenerator(tiny_kdnodes), properties = p)"
   ]
  },
  {
   "cell_type": "code",
   "execution_count": 9,
   "metadata": {},
   "outputs": [
    {
     "name": "stdout",
     "output_type": "stream",
     "text": [
      "[(0, [0, 1], [0.0, 0.0, 10.0, 10.0])]\n",
      "[0]\n",
      "[1]\n"
     ]
    }
   ],
   "source": [
    "print(idx.leaves())\n",
    "print(list(idx.intersection((1.0, 1.0, 2.0, 2.0))))\n",
    "print(list(idx.intersection((1.0, 5.0, 2.0, 7.0))))"
   ]
  },
  {
   "cell_type": "code",
   "execution_count": 10,
   "metadata": {
    "collapsed": true
   },
   "outputs": [],
   "source": [
    "import copy\n",
    "copy_index = copy.deepcopy(idx)"
   ]
  },
  {
   "cell_type": "code",
   "execution_count": 11,
   "metadata": {},
   "outputs": [
    {
     "name": "stdout",
     "output_type": "stream",
     "text": [
      "[1]\n"
     ]
    }
   ],
   "source": [
    "print(list(idx.intersection((1.0, 5.0, 2.0, 7.0))))"
   ]
  },
  {
   "cell_type": "code",
   "execution_count": 13,
   "metadata": {},
   "outputs": [],
   "source": [
    "copy_index.delete(1, (0,4,10,10))"
   ]
  },
  {
   "cell_type": "code",
   "execution_count": 15,
   "metadata": {},
   "outputs": [
    {
     "name": "stdout",
     "output_type": "stream",
     "text": [
      "[1]\n",
      "[]\n"
     ]
    }
   ],
   "source": [
    "print(list(idx.intersection((1.0, 5.0, 2.0, 7.0))))\n",
    "print(list(copy_index.intersection((1.0, 5.0, 2.0, 7.0))))"
   ]
  },
  {
   "cell_type": "code",
   "execution_count": null,
   "metadata": {
    "collapsed": true
   },
   "outputs": [],
   "source": []
  }
 ],
 "metadata": {
  "kernelspec": {
   "display_name": "Python 3",
   "language": "python",
   "name": "python3"
  },
  "language_info": {
   "codemirror_mode": {
    "name": "ipython",
    "version": 3
   },
   "file_extension": ".py",
   "mimetype": "text/x-python",
   "name": "python",
   "nbconvert_exporter": "python",
   "pygments_lexer": "ipython3",
   "version": "3.6.10"
  }
 },
 "nbformat": 4,
 "nbformat_minor": 2
}
