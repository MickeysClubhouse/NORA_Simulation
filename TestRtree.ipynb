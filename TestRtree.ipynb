{
 "cells": [
  {
   "cell_type": "code",
   "execution_count": 24,
   "metadata": {
    "collapsed": true
   },
   "outputs": [],
   "source": [
    "import rtree\n",
    "from rtree import index\n",
    "# based on lib spatial index\n",
    "# (Python) https://pypi.org/project/Rtree/\n",
    "# (C++) https://libspatialindex.org/#features"
   ]
  },
  {
   "cell_type": "code",
   "execution_count": 33,
   "metadata": {
    "collapsed": true
   },
   "outputs": [],
   "source": [
    "p = rtree.index.Property()\n",
    "p.leaf_capacity = 10000 # cannot be less than 100, indicate the maximum capacity\n",
    "p.overwrite = True\n",
    "\n",
    "# p.NearMinimumOverlapFactor = num\n",
    "\n",
    "idx = index.Index(properties = p)\n",
    "\n",
    "# left, bottom, right, top = (0.0, 0.0, 0.0, 0.0)\n",
    "\n",
    "# for a point, the min = max\n",
    "# idx.insert(0, (0.0, 0.0, 0.0, 0.0))  \n",
    "# idx.insert(1, (0.0, 1.0, 0.0, 1.0))\n",
    "# idx.insert(2, (1.0, 0.0, 1.0, 0.0))\n",
    "# idx.insert(3, (1.0, 1.0, 1.0, 1.0))\n",
    "\n",
    "# idx.insert(4, (2.0, 0.0, 2.0, 0.0))  \n",
    "# idx.insert(5, (2.0, 1.0, 2.0, 1.0))\n",
    "# idx.insert(6, (3.0, 0.0, 3.0, 0.0))\n",
    "# idx.insert(7, (3.0, 1.0, 3.0, 1.0))\n",
    "\n",
    "# idx.insert(8, (0.0, 2.0, 0.0, 2.0))  \n",
    "# idx.insert(9, (1.0, 2.0, 1.0, 2.0))\n",
    "# idx.insert(10, (2.0, 2.0, 2.0, 2.0))\n",
    "# idx.insert(11, (3.0, 2.0, 3.0, 2.0))\n",
    "\n",
    "for i in range(10500):\n",
    "    idx.insert(i, (i, i, i, i)) \n",
    "\n",
    "# results = list(idx.intersection((1.0, 1.0, 2.0, 2.0)))\n",
    "# print(results)"
   ]
  },
  {
   "cell_type": "code",
   "execution_count": 34,
   "metadata": {},
   "outputs": [
    {
     "name": "stdout",
     "output_type": "stream",
     "text": [
      "rtree.index.Index(bounds=[0.0, 0.0, 10499.0, 10499.0], size=10500)\n",
      "[0.0, 0.0, 10499.0, 10499.0]\n",
      "[[    0.     0.    99.    99.]\n",
      " [  100.   100.   199.   199.]\n",
      " [  200.   200.   299.   299.]\n",
      " [  300.   300.   399.   399.]\n",
      " [  400.   400.   499.   499.]\n",
      " [  500.   500.   599.   599.]\n",
      " [  600.   600.   699.   699.]\n",
      " [  700.   700.   799.   799.]\n",
      " [  800.   800.   899.   899.]\n",
      " [  900.   900.   999.   999.]\n",
      " [ 1000.  1000.  1099.  1099.]\n",
      " [ 1100.  1100.  1199.  1199.]\n",
      " [ 1200.  1200.  1299.  1299.]\n",
      " [ 1300.  1300.  1399.  1399.]\n",
      " [ 1400.  1400.  1499.  1499.]\n",
      " [ 1500.  1500.  1599.  1599.]\n",
      " [ 1600.  1600.  1699.  1699.]\n",
      " [ 1700.  1700.  1799.  1799.]\n",
      " [ 1800.  1800.  1899.  1899.]\n",
      " [ 1900.  1900.  1999.  1999.]\n",
      " [ 2000.  2000.  2099.  2099.]\n",
      " [ 2100.  2100.  2199.  2199.]\n",
      " [ 2200.  2200.  2299.  2299.]\n",
      " [ 2300.  2300.  2399.  2399.]\n",
      " [ 2400.  2400.  2499.  2499.]\n",
      " [ 2500.  2500.  2599.  2599.]\n",
      " [ 2600.  2600.  2699.  2699.]\n",
      " [ 2700.  2700.  2799.  2799.]\n",
      " [ 2800.  2800.  2899.  2899.]\n",
      " [ 2900.  2900.  2999.  2999.]\n",
      " [ 3000.  3000.  3099.  3099.]\n",
      " [ 3100.  3100.  3199.  3199.]\n",
      " [ 3200.  3200.  3299.  3299.]\n",
      " [ 3300.  3300.  3399.  3399.]\n",
      " [ 3400.  3400.  3499.  3499.]\n",
      " [ 3500.  3500.  3599.  3599.]\n",
      " [ 3600.  3600.  3699.  3699.]\n",
      " [ 3700.  3700.  3799.  3799.]\n",
      " [ 3800.  3800.  3899.  3899.]\n",
      " [ 3900.  3900.  3999.  3999.]\n",
      " [ 4000.  4000.  4099.  4099.]\n",
      " [ 4100.  4100.  4199.  4199.]\n",
      " [ 4200.  4200.  4299.  4299.]\n",
      " [ 4300.  4300.  4399.  4399.]\n",
      " [ 4400.  4400.  4499.  4499.]\n",
      " [ 4500.  4500.  4599.  4599.]\n",
      " [ 4600.  4600.  4699.  4699.]\n",
      " [ 4700.  4700.  4799.  4799.]\n",
      " [ 4800.  4800.  4899.  4899.]\n",
      " [ 4900.  4900.  4999.  4999.]\n",
      " [ 5000.  5000.  5099.  5099.]\n",
      " [ 5100.  5100.  5199.  5199.]\n",
      " [ 5200.  5200.  5299.  5299.]\n",
      " [ 5300.  5300.  5399.  5399.]\n",
      " [ 5400.  5400.  5499.  5499.]\n",
      " [ 5500.  5500.  5599.  5599.]\n",
      " [ 5600.  5600.  5699.  5699.]\n",
      " [ 5700.  5700.  5799.  5799.]\n",
      " [ 5800.  5800.  5899.  5899.]\n",
      " [ 5900.  5900.  5999.  5999.]\n",
      " [ 6000.  6000.  6099.  6099.]\n",
      " [ 6100.  6100.  6199.  6199.]\n",
      " [ 6200.  6200.  6299.  6299.]\n",
      " [ 6300.  6300.  6399.  6399.]\n",
      " [ 6400.  6400.  6499.  6499.]\n",
      " [ 6500.  6500.  6599.  6599.]\n",
      " [ 6600.  6600.  6699.  6699.]\n",
      " [ 6700.  6700.  6799.  6799.]\n",
      " [ 6800.  6800.  6899.  6899.]\n",
      " [ 6900.  6900.  6999.  6999.]\n",
      " [ 7000.  7000.  7099.  7099.]\n",
      " [ 7100.  7100.  7199.  7199.]\n",
      " [ 7200.  7200.  7299.  7299.]\n",
      " [ 7300.  7300.  7399.  7399.]\n",
      " [ 7400.  7400.  7499.  7499.]\n",
      " [ 7500.  7500.  7599.  7599.]\n",
      " [ 7600.  7600.  7699.  7699.]\n",
      " [ 7700.  7700.  7799.  7799.]\n",
      " [ 7800.  7800.  7899.  7899.]\n",
      " [ 7900.  7900.  7999.  7999.]\n",
      " [ 8000.  8000.  8099.  8099.]\n",
      " [ 8100.  8100.  8199.  8199.]\n",
      " [ 8200.  8200.  8299.  8299.]\n",
      " [ 8300.  8300.  8399.  8399.]\n",
      " [ 8400.  8400.  8499.  8499.]\n",
      " [ 8500.  8500.  8599.  8599.]\n",
      " [ 8600.  8600.  8699.  8699.]\n",
      " [ 8700.  8700.  8799.  8799.]\n",
      " [ 8800.  8800.  8899.  8899.]\n",
      " [ 8900.  8900.  8999.  8999.]\n",
      " [ 9000.  9000.  9099.  9099.]\n",
      " [ 9100.  9100.  9199.  9199.]\n",
      " [ 9200.  9200.  9299.  9299.]\n",
      " [ 9300.  9300.  9399.  9399.]\n",
      " [ 9400.  9400.  9499.  9499.]\n",
      " [ 9500.  9500.  9599.  9599.]\n",
      " [ 9600.  9600.  9699.  9699.]\n",
      " [ 9700.  9700.  9799.  9799.]\n",
      " [ 9800.  9800.  9899.  9899.]\n",
      " [ 9900.  9900.  9999.  9999.]\n",
      " [10000. 10000. 10099. 10099.]\n",
      " [10100. 10100. 10199. 10199.]\n",
      " [10200. 10200. 10299. 10299.]\n",
      " [10300. 10300. 10399. 10399.]\n",
      " [10400. 10400. 10499. 10499.]]\n"
     ]
    }
   ],
   "source": [
    "# Test\n",
    "print(idx)\n",
    "print(idx.bounds)\n",
    "\n",
    "MBRs = [idx.leaves()[i][2] for i in range(len(idx.leaves()))]\n",
    "import numpy as np\n",
    "MBRs = np.array(MBRs)\n",
    "print(MBRs) # print leaf MBRs"
   ]
  },
  {
   "cell_type": "code",
   "execution_count": 65,
   "metadata": {},
   "outputs": [
    {
     "name": "stdout",
     "output_type": "stream",
     "text": [
      "<rtree.index.IndexHandle object at 0x00000108EE32CBE0>\n"
     ]
    }
   ],
   "source": [
    "print(idx.handle)"
   ]
  },
  {
   "cell_type": "code",
   "execution_count": 35,
   "metadata": {},
   "outputs": [
    {
     "name": "stdout",
     "output_type": "stream",
     "text": [
      "rtree.index.Index(bounds=[0.0, 0.0, 1.0, 1.0], size=4)\n"
     ]
    }
   ],
   "source": [
    "# bulk loading\n",
    "\n",
    "import numpy as np\n",
    "data = [[0.0, 0.0, 0.0, 0.0], [0.0, 1.0, 0.0, 1.0], [1.0, 0.0, 1.0, 0.0], [1.0, 1.0, 1.0, 1.0]]\n",
    "data = np.array(data)\n",
    "\n",
    "def generator_function(data):\n",
    "    for i in range(len(data)):\n",
    "        yield(i, (data[i,0], data[i,1], data[i,2], data[i,3]), data[i])\n",
    "    return\n",
    "\n",
    "rtree = index.Index(generator_function(data),leaf_capacity=4)\n",
    "print(rtree)"
   ]
  },
  {
   "cell_type": "code",
   "execution_count": 37,
   "metadata": {},
   "outputs": [
    {
     "name": "stdout",
     "output_type": "stream",
     "text": [
      "rtree.index.Index(bounds=[0.0, 0.0, 1.0, 1.0], size=4)\n",
      "[(0, [0, 1, 2, 3], [0.0, 0.0, 1.0, 1.0])]\n"
     ]
    }
   ],
   "source": [
    "print(rtree)\n",
    "print(rtree.leaves())"
   ]
  },
  {
   "cell_type": "code",
   "execution_count": 38,
   "metadata": {
    "collapsed": true
   },
   "outputs": [],
   "source": [
    "# - dataset: numpy array\n",
    "\n",
    "def DatasetGenerator(dataset):\n",
    "    for i in range(len(dataset)):\n",
    "        yield(i, (dataset[i,0], dataset[i,1], dataset[i,0], dataset[i,1]), dataset[i])\n",
    "    return\n",
    "\n",
    "def GenerateRtreePartitionUsingBulkLoading(dataset, maximum_capacity = 10000):\n",
    "    \n",
    "    p = rtree.index.Property()\n",
    "    p.leaf_capacity = maximum_capacity # cannot be less than 100, indicate the maximum capacity\n",
    "    p.overwrite = True\n",
    "\n",
    "    idx = index.Index(properties = p)\n",
    "    \n",
    "    DatasetGenerator(dataset)\n",
    "    rtree = index.Index(generator_function(data))\n",
    "    \n",
    "    MBRs = [rtree.leaves()[i][2] for i in range(len(rtree.leaves()))]\n",
    "    MBRs = np.array(MBRs)\n",
    "    \n",
    "    return MBRs"
   ]
  },
  {
   "cell_type": "code",
   "execution_count": 13,
   "metadata": {},
   "outputs": [
    {
     "name": "stdout",
     "output_type": "stream",
     "text": [
      "2\n"
     ]
    }
   ],
   "source": [
    "# sth. non-related\n",
    "\n",
    "# s = 'abcde'\n",
    "s = '你好'\n",
    "# s = 'abcde 你好'\n",
    "print(len(s))\n",
    "\n",
    "arr = bytes(s, 'utf-8')\n",
    "# arr = bytes(s, 'ascii')\n",
    "print(len(arr))"
   ]
  },
  {
   "cell_type": "code",
   "execution_count": 2,
   "metadata": {},
   "outputs": [
    {
     "name": "stdout",
     "output_type": "stream",
     "text": [
      "3\n"
     ]
    }
   ],
   "source": [
    "teststr = 'I am a boy'\n",
    "words = teststr.split()\n",
    "print(len(words[-1]))"
   ]
  },
  {
   "cell_type": "code",
   "execution_count": null,
   "metadata": {
    "collapsed": true
   },
   "outputs": [],
   "source": []
  }
 ],
 "metadata": {
  "kernelspec": {
   "display_name": "Python 3",
   "language": "python",
   "name": "python3"
  },
  "language_info": {
   "codemirror_mode": {
    "name": "ipython",
    "version": 3
   },
   "file_extension": ".py",
   "mimetype": "text/x-python",
   "name": "python",
   "nbconvert_exporter": "python",
   "pygments_lexer": "ipython3",
   "version": "3.6.10"
  }
 },
 "nbformat": 4,
 "nbformat_minor": 2
}
