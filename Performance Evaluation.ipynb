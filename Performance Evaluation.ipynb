{
 "cells": [
  {
   "cell_type": "code",
   "execution_count": 5,
   "metadata": {},
   "outputs": [],
   "source": [
    "import numpy as np\n",
    "from numpy import genfromtxt\n",
    "# when generatign queries, we should generate more\n",
    "# such that some for training, some for testing.\n",
    "# also tese the random generated queries"
   ]
  },
  {
   "cell_type": "code",
   "execution_count": 8,
   "metadata": {},
   "outputs": [],
   "source": [
    "# evaluate the blocks of data to be fetched\n",
    "# @query: a [] that contains the lower value in all dimensions; numpy object, e.g., each row [lower,upper,lower,upper] \n",
    "# #kdnodes: a [] that contains the info of each generated kd-tree nodes; e.g.,each row [lower,upper,lower,upper,...,count]\n",
    "import statistics\n",
    "def Query(queries, kdnodes):\n",
    "    \n",
    "    counts = []\n",
    "    count_single_query = 0;\n",
    "    \n",
    "    # number of dimensions\n",
    "    dims = int(len(queries[0])/2)\n",
    "    \n",
    "    # for each query\n",
    "    for i in range(len(queries)):\n",
    "        \n",
    "        count_single_query = 0\n",
    "        \n",
    "        # check for intersection for each kdnode\n",
    "        for j in range(len(kdnodes)):\n",
    "            \n",
    "            # for each dimension\n",
    "            intersection_tag = True\n",
    "            for k in range(dims):\n",
    "                \n",
    "                # an intersection holds if it intersecs in all dimensions\n",
    "                if queries[i][2*k] >= kdnodes[j][2*k+1] or queries[i][2*k+1] <= kdnodes[j][2*k]:\n",
    "                    intersection_tag = False\n",
    "                    break\n",
    "                \n",
    "            # if the query intersect with this kdnode\n",
    "            if intersection_tag:\n",
    "                count_single_query += 1\n",
    "            \n",
    "        counts.append(count_single_query)\n",
    "    \n",
    "    print(\"blocks IO: \", counts)\n",
    "    print(\"blocks IO(average): \", statistics.mean(counts))"
   ]
  },
  {
   "cell_type": "code",
   "execution_count": 9,
   "metadata": {},
   "outputs": [
    {
     "name": "stdout",
     "output_type": "stream",
     "text": [
      "blocks IO:  [1, 1, 1, 1, 1, 1, 2, 2, 1, 1, 1, 2, 2, 1, 1, 1, 1, 1, 1, 1, 1, 1, 1, 1, 1, 1, 1, 1, 1, 1, 1, 1, 1, 1, 1, 1, 1, 1, 1, 1, 1, 1, 1, 1, 1, 1, 1, 1, 1, 1, 1, 1, 1, 1, 1, 1, 1, 1, 1, 1, 3, 1, 1, 2, 1, 1, 1, 1, 1, 1, 1, 1, 1, 1, 1, 1, 1, 1, 1, 1, 1, 1, 1, 1, 1, 1, 1, 1, 1, 1, 1, 1, 1, 1, 1, 1, 1, 1, 1, 1]\n",
      "blocks IO(average):  1.07\n"
     ]
    }
   ],
   "source": [
    "queries = genfromtxt(\"/Users/lizhe/Desktop/LearnedKDTree/DataAndWorkload/SyntheticWorkload/Tweet_C10_P10_S5.csv\", delimiter=',')\n",
    "kdnodes = genfromtxt(\"/Users/lizhe/Desktop/LearnedKDTree/DataAndWorkload/SyntheticWorkload/KDnodes_Tweet_C10_P10_S5.csv\", delimiter=',')\n",
    "Query(queries, kdnodes)"
   ]
  },
  {
   "cell_type": "code",
   "execution_count": null,
   "metadata": {},
   "outputs": [],
   "source": []
  }
 ],
 "metadata": {
  "kernelspec": {
   "display_name": "Python 3",
   "language": "python",
   "name": "python3"
  },
  "language_info": {
   "codemirror_mode": {
    "name": "ipython",
    "version": 3
   },
   "file_extension": ".py",
   "mimetype": "text/x-python",
   "name": "python",
   "nbconvert_exporter": "python",
   "pygments_lexer": "ipython3",
   "version": "3.6.3"
  }
 },
 "nbformat": 4,
 "nbformat_minor": 2
}
