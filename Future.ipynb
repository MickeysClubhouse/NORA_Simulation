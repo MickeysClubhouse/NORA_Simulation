{
 "cells": [
  {
   "cell_type": "code",
   "execution_count": null,
   "metadata": {
    "collapsed": true
   },
   "outputs": [],
   "source": [
    "class HistManager:\n",
    "    \n",
    "    def __init__(self, m, n):\n",
    "        self.query_hist\n",
    "        self.query_index_hist\n",
    "        \n",
    "    def "
   ]
  },
  {
   "cell_type": "code",
   "execution_count": null,
   "metadata": {
    "collapsed": true
   },
   "outputs": [],
   "source": [
    "\n",
    "# new kdnode format: [dims, l1,l2...ln,u1,u2,...,un, id, pid, cid1, cid2]\n",
    "class PartitionLayout:\n",
    "    \n",
    "    def __init__(self):\n",
    "        self.idx = None # used to index the partitions\n",
    "        self.kdnodes = {} # id : partition dictionary\n",
    "        \n",
    "    def insert_kdnode(self, kdnode, kid):\n",
    "        pass\n",
    "    \n",
    "    def delete_kdnode(self, kdnode, kid):\n",
    "        pass"
   ]
  }
 ],
 "metadata": {
  "kernelspec": {
   "display_name": "Python 3",
   "language": "python",
   "name": "python3"
  },
  "language_info": {
   "codemirror_mode": {
    "name": "ipython",
    "version": 3
   },
   "file_extension": ".py",
   "mimetype": "text/x-python",
   "name": "python",
   "nbconvert_exporter": "python",
   "pygments_lexer": "ipython3",
   "version": "3.6.10"
  }
 },
 "nbformat": 4,
 "nbformat_minor": 2
}
