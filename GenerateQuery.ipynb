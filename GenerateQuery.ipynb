{
 "cells": [
  {
   "cell_type": "code",
   "execution_count": 2,
   "metadata": {},
   "outputs": [],
   "source": [
    "# import numpy as np\n",
    "# import tensorflow as tf\n",
    "# import matplotlib.pyplot as plt\n",
    "# from numpy import genfromtxt\n",
    "# from sklearn.decomposition import PCA, FastICA\n",
    "# my_data = genfromtxt(\"/Users/lizhe/Library/Mobile Documents/com~apple~CloudDocs/SortedSingleDimPOIs2.csv\", delimiter=',')\n",
    "# # x range: from -90 to 90, the first column\n",
    "# # y range: from -180 to 180, the second column"
   ]
  },
  {
   "cell_type": "code",
   "execution_count": 21,
   "metadata": {},
   "outputs": [],
   "source": [
    "# by default, use Gaussian distribution to generate the synthetic query workload\n",
    "# @center_amount: assume the queries are clustered into that amount of clusters\n",
    "# @point_amount: the number of queries in each cluster\n",
    "# @dimensions: the domain of each dimension, the range should at least 8 times the sigma value\n",
    "# @sigma: the sigma of Gaussian distribution\n",
    "import random\n",
    "def generate_query(center_amount=10, point_amount=10, dimensions=[[-180,180],[-90,90]], sigma=[10,5]):\n",
    "    \n",
    "    random.seed()\n",
    "    num_dims = len(dimensions)\n",
    "    \n",
    "    queries = []\n",
    "    for j in range(2*num_dims):\n",
    "        queries.append([])\n",
    "    \n",
    "    # for each cluster\n",
    "    for i in range(center_amount):\n",
    "        \n",
    "        # determin the cluster center on each dimension\n",
    "        cluster_center = []\n",
    "        \n",
    "        # for each dimension\n",
    "        for j in range(num_dims):\n",
    "            \n",
    "            # to assure the distribution do not exceed the border\n",
    "            dim_range = dimensions[j][1]-dimensions[j][0] - 8*sigma[j]\n",
    "            center1D = random.randrange(dim_range)\n",
    "            center1D += (dimensions[j][0] + 4*sigma[j])\n",
    "            cluster_center.append(center1D)\n",
    "            \n",
    "            # for each query\n",
    "            for k in range(point_amount):\n",
    "                \n",
    "                #determin the lower bound\n",
    "                lower1D = random.gauss(center1D, sigma[j])\n",
    "                upper1D = random.gauss(center1D, sigma[j])\n",
    "                \n",
    "                if lower1D > upper1D:\n",
    "                    lower1D, upper1D = upper1D, lower1D\n",
    "                    \n",
    "                queries[2*j].append(lower1D)\n",
    "                queries[2*j+1].append(upper1D)\n",
    "                \n",
    "    # transform the query structure\n",
    "    temp_queries = []\n",
    "    values = []\n",
    "    for i in range(len(queries[0])):\n",
    "        for j in range(2*num_dims):\n",
    "            values.append(queries[j][i])\n",
    "        temp_queries.append(values)\n",
    "        values=[]\n",
    "            \n",
    "    # return queries\n",
    "    return temp_queries"
   ]
  },
  {
   "cell_type": "code",
   "execution_count": 22,
   "metadata": {},
   "outputs": [],
   "source": [
    "# save the array into csv\n",
    "import csv\n",
    "def write_csv_file(path, head, data):  \n",
    "    try:  \n",
    "        with open(path, 'w', newline='') as csv_file:  \n",
    "            writer = csv.writer(csv_file, dialect='excel')  \n",
    "  \n",
    "            if head is not None:  \n",
    "                writer.writerow(head)  \n",
    "  \n",
    "            for row in data:  \n",
    "                writer.writerow(row)  \n",
    "  \n",
    "            print(\"Write a CSV file to path %s Successful.\" % path)  \n",
    "    except Exception as e:  \n",
    "        print(\"Write an CSV file to path: %s, Case: %s\" % (path, e))"
   ]
  },
  {
   "cell_type": "code",
   "execution_count": 23,
   "metadata": {},
   "outputs": [],
   "source": [
    "dimensions_ = [[1,1.20000000e+07],[1,4.00000000e+05],[1,2.00000000e+04]]"
   ]
  },
  {
   "cell_type": "code",
   "execution_count": 24,
   "metadata": {},
   "outputs": [
    {
     "name": "stdout",
     "output_type": "stream",
     "text": [
      "Write a CSV file to path /Users/lizhe/Desktop/LearnedKDTree/DataAndWorkload/SyntheticWorkload/TPCH_C1000_P10_S10000_100_10.csv Successful.\n"
     ]
    }
   ],
   "source": [
    "# generate the queries\n",
    "query_collection = generate_query(center_amount=1000, point_amount=10, dimensions=dimensions_, sigma=[10000,100,10])\n",
    "write_csv_file(\"/Users/lizhe/Desktop/LearnedKDTree/DataAndWorkload/SyntheticWorkload/TPCH_C1000_P10_S10000_100_10.csv\",None,query_collection)"
   ]
  },
  {
   "cell_type": "code",
   "execution_count": 13,
   "metadata": {},
   "outputs": [],
   "source": [
    "# plot 3D query\n",
    "# TODO\n",
    "# from mpl_toolkits.mplot3d import Axes3D\n",
    "# from mpl_toolkits.mplot3d.art3d import Poly3DCollection\n",
    "# import matplotlib.pyplot as plt\n",
    "# def plot3DQuery(queries):\n",
    "#     fig = flt.figure()\n",
    "#     ax = Axes3D(fig)\n",
    "#     for i in range(len(query_collection))\n",
    "#         x = []\n",
    "#         y = []\n",
    "#         z = []\n",
    "#         vertexes = [list(zip(x,y,z))]\n",
    "#         ax.add_collection3d(Poly3DCollection(vertexes))\n",
    "#     plt.show()"
   ]
  },
  {
   "cell_type": "code",
   "execution_count": 25,
   "metadata": {},
   "outputs": [],
   "source": [
    "# plot the queries, only in 2D\n",
    "import matplotlib.pyplot as plt\n",
    "from matplotlib.collections import PatchCollection\n",
    "from matplotlib.patches import Rectangle\n",
    "\n",
    "# @query_collection: could be more than 2 dimensions\n",
    "# @domains: the domain of the plot dimensions, shoud be corresponding with the order of plotdim\n",
    "def plot_queries_2d(query_collection, domains, plotdim=[0,1]):\n",
    "    \n",
    "    fig, ax = plt.subplots(1)\n",
    "    \n",
    "    plt.xlim(domains[0][0],domains[0][1])\n",
    "    plt.ylim(domains[1][0],domains[1][1])\n",
    "    \n",
    "    # transform the queries into boxes\n",
    "    query_size = len(query_collection)\n",
    "    # the number of boxed that will be plotted\n",
    "    boxes = []\n",
    "    for i in range(query_size):\n",
    "        lower1 = query_collection[i][2*plotdim[0]]\n",
    "        upper1 = query_collection[i][2*plotdim[0]+1]\n",
    "        lower2 = query_collection[i][2*plotdim[1]]\n",
    "        upper2 = query_collection[i][2*plotdim[1]+1]\n",
    "        rect = Rectangle((lower1,lower2),upper1-lower1,upper2-lower2,fill=False,edgecolor='r',linewidth=1)\n",
    "        ax.add_patch(rect)\n",
    "    \n",
    "    plt.show()"
   ]
  },
  {
   "cell_type": "code",
   "execution_count": 26,
   "metadata": {},
   "outputs": [
    {
     "data": {
      "image/png": "[encoded data removed]",
      "text/plain": [
       "<matplotlib.figure.Figure at 0x1149f75c0>"
      ]
     },
     "metadata": {},
     "output_type": "display_data"
    }
   ],
   "source": [
    "plot_queries_2d(query_collection,[[1,1.20000000e+07],[1,4.00000000e+05]],[0,1])"
   ]
  },
  {
   "cell_type": "code",
   "execution_count": 17,
   "metadata": {},
   "outputs": [
    {
     "data": {
      "image/png": "[encoded data removed]",
      "text/plain": [
       "<matplotlib.figure.Figure at 0x10c0d9ba8>"
      ]
     },
     "metadata": {},
     "output_type": "display_data"
    }
   ],
   "source": [
    "# the origin 12M TPCH dataset\n",
    "import numpy as np\n",
    "from numpy import genfromtxt\n",
    "my_data = genfromtxt(\"/Users/lizhe/Desktop/LearnedKDTree/DataAndWorkload/SyntheticData/TPCH_12M_8Field.csv\", delimiter=',')\n",
    "# # x range: from -90 to 90, the first column\n",
    "# # y range: from -180 to 180, the second column\n",
    "long_batch = my_data[:,0]\n",
    "lat_batch = my_data[:,1]\n",
    "plt.scatter(lat_batch, long_batch, color='b', label='points')\n",
    "plt.legend(loc='upper left')\n",
    "plt.show()"
   ]
  },
  {
   "cell_type": "code",
   "execution_count": 83,
   "metadata": {},
   "outputs": [
    {
     "data": {
      "image/png": "[encoded data removed]",
      "text/plain": [
       "<matplotlib.figure.Figure at 0x1172a89b0>"
      ]
     },
     "metadata": {},
     "output_type": "display_data"
    }
   ],
   "source": [
    "# the origin twitter dataset\n",
    "import numpy as np\n",
    "from numpy import genfromtxt\n",
    "my_data = genfromtxt(\"/Users/lizhe/Library/Mobile Documents/com~apple~CloudDocs/SortedSingleDimPOIs2.csv\", delimiter=',')\n",
    "# # x range: from -90 to 90, the first column\n",
    "# # y range: from -180 to 180, the second column\n",
    "long_batch = my_data[:,0]\n",
    "lat_batch = my_data[:,1]\n",
    "plt.scatter(lat_batch, long_batch, color='b', label='points')\n",
    "plt.legend(loc='upper left')\n",
    "plt.show()\n"
   ]
  },
  {
   "cell_type": "code",
   "execution_count": null,
   "metadata": {},
   "outputs": [],
   "source": []
  }
 ],
 "metadata": {
  "kernelspec": {
   "display_name": "Python 3",
   "language": "python",
   "name": "python3"
  },
  "language_info": {
   "codemirror_mode": {
    "name": "ipython",
    "version": 3
   },
   "file_extension": ".py",
   "mimetype": "text/x-python",
   "name": "python",
   "nbconvert_exporter": "python",
   "pygments_lexer": "ipython3",
   "version": "3.6.3"
  }
 },
 "nbformat": 4,
 "nbformat_minor": 2
}
