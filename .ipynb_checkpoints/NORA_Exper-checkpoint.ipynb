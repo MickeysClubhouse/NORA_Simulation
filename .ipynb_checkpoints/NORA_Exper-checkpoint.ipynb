{
 "cells": [
  {
   "cell_type": "code",
   "execution_count": 1,
   "metadata": {
    "collapsed": true
   },
   "outputs": [],
   "source": [
    "import numpy as np\n",
    "import import_ipynb\n",
    "import time"
   ]
  },
  {
   "cell_type": "code",
   "execution_count": 123,
   "metadata": {
    "collapsed": true
   },
   "outputs": [],
   "source": [
    "# = = = Global Configuration = = =\n",
    "\n",
    "scale_factor = 100\n",
    "prob_threshold = 1 / scale_factor\n",
    "total_dims = 16 # the dimensions of lineitem table\n",
    "domain_dims = 8 # the dimensions we used and maintain min max for\n",
    "chunk_size = 100000\n",
    "\n",
    "# base_table_path = 'C:/Users/Cloud/iCloudDrive/HUAWEI_LKD/9a84f6cd-727f-4f10-ae95-10a0214e10a4-tpc-h-tool/2.18.0_rc2/dbgen/lineitem_'\n",
    "# table_path = base_table_path + str(scale_factor) + '.tbl'\n",
    "\n",
    "base_save_path = 'C:/Users/Cloud/iCloudDrive/HUAWEI_LKD/Dataset/Robust/dataset/lineitem_'\n",
    "save_path_data = base_save_path + str(scale_factor) + '_' + str(prob_threshold) + '.csv'\n",
    "save_path_domain = base_save_path + str(scale_factor) + '_' + str(prob_threshold) + '_domains.csv'\n",
    "\n",
    "block_size = 1000000 // scale_factor # in original file, 1M rows take approximately 128MB"
   ]
  },
  {
   "cell_type": "code",
   "execution_count": 124,
   "metadata": {
    "collapsed": true
   },
   "outputs": [],
   "source": [
    "# = = = Data Loading = = =\n",
    "dataset = np.genfromtxt(save_path_data, delimiter=',') # the sampled subset\n",
    "domains = np.genfromtxt(save_path_domain, delimiter=',') # the domain of that scale\n",
    "\n",
    "# Configuration\n",
    "used_dimensions = [1,2] # the second and third dimensions\n",
    "\n",
    "dataset = dataset[:,used_dimensions]\n",
    "domains = domains[used_dimensions]"
   ]
  },
  {
   "cell_type": "code",
   "execution_count": 125,
   "metadata": {},
   "outputs": [],
   "source": [
    "# = = = Query Loading = = =\n",
    "from QueryGeneration import *"
   ]
  },
  {
   "cell_type": "code",
   "execution_count": 141,
   "metadata": {},
   "outputs": [
    {
     "data": {
      "image/png": "[encoded data removed]",
      "text/plain": [
       "<Figure size 432x288 with 1 Axes>"
      ]
     },
     "metadata": {},
     "output_type": "display_data"
    }
   ],
   "source": [
    "# = = = Query Generation = = =\n",
    "\n",
    "# Configuration\n",
    "total_queries = 100\n",
    "random_percentage = 0.2\n",
    "maximum_random_range = [int((domains[i,1] - domains[i,0])*0.1) for i in range(len(domains))]\n",
    "cluster_amount = 8\n",
    "maximum_range_dis = [int((domains[i,1] - domains[i,0])*0.1) for i in range(len(domains))]\n",
    "sigmas_percentage = [0.2,0.2]\n",
    "random_shift = False\n",
    "return_seperate = True\n",
    "\n",
    "mixed_queris = generate_query_with_random(total_queries, random_percentage, domains, maximum_random_range, \n",
    "                                          cluster_amount, maximum_range_dis, sigmas_percentage, random_shift, return_seperate)\n",
    "\n",
    "plot_queries_2d_distribution_and_random(mixed_queris[1], mixed_queris[0], domains)"
   ]
  },
  {
   "cell_type": "code",
   "execution_count": 142,
   "metadata": {
    "collapsed": true
   },
   "outputs": [],
   "source": [
    "# = = = Query Saving / Loading = = =\n",
    "\n",
    "# Configuration\n",
    "query_base_path = 'C:/Users/Cloud/iCloudDrive/HUAWEI_LKD/Dataset/Robust/query/'\n",
    "\n",
    "distribution_path = query_base_path + 'distribution_' + str(scale_factor) + '.csv'\n",
    "random_path = query_base_path + 'random_' + str(scale_factor) + '.csv'\n",
    "\n",
    "# save the generated queries\n",
    "save_query(mixed_queris[1], distribution_path)\n",
    "save_query(mixed_queris[0], random_path)\n",
    "\n",
    "# if the query is generated from another domain, it should be regenerated!\n",
    "distribution_query = load_query(distribution_path)\n",
    "random_query = load_query(random_path)\n",
    "\n",
    "distribution_segmentation = int(total_queries * (1 - random_percentage) / 2)\n",
    "random_segmentation = int(total_queries * random_percentage / 2)\n",
    "\n",
    "training_set = np.concatenate((random_query[0:random_segmentation], distribution_query[0:distribution_segmentation]), axis=0)\n",
    "testing_set = np.concatenate((random_query[random_segmentation:], distribution_query[distribution_segmentation:]), axis = 0)"
   ]
  },
  {
   "cell_type": "code",
   "execution_count": 143,
   "metadata": {},
   "outputs": [],
   "source": [
    "from Query import *\n",
    "from Utils import *"
   ]
  },
  {
   "cell_type": "code",
   "execution_count": 144,
   "metadata": {},
   "outputs": [],
   "source": [
    "# = = = Qd-Tree = = =\n",
    "from Qd_tree import *\n",
    "\n",
    "# Configuration\n",
    "qdtree_partition_base_path = 'C:/Users/Cloud/iCloudDrive/HUAWEI_LKD/HDFSExperiment/generated_partitions/'\n",
    "qdtree_path = qdtree_partition_base_path + 'qdtree_partitions_' + str(scale_factor)"
   ]
  },
  {
   "cell_type": "code",
   "execution_count": 145,
   "metadata": {},
   "outputs": [
    {
     "name": "stdout",
     "output_type": "stream",
     "text": [
      "current kdnodes:  1\n",
      "current inner loop i:  0\n",
      "current kdnodes:  2\n",
      "current inner loop i:  0\n",
      "current inner loop i:  1\n",
      "current kdnodes:  4\n",
      "current inner loop i:  0\n",
      "current inner loop i:  1\n",
      "current inner loop i:  2\n",
      "current inner loop i:  3\n",
      "current kdnodes:  8\n",
      "current inner loop i:  0\n",
      "current inner loop i:  1\n",
      "current inner loop i:  2\n",
      "current inner loop i:  3\n",
      "current inner loop i:  4\n",
      "current inner loop i:  5\n",
      "current inner loop i:  6\n",
      "current inner loop i:  7\n",
      "current kdnodes:  16\n",
      "current inner loop i:  0\n",
      "current inner loop i:  1\n",
      "current inner loop i:  2\n",
      "current inner loop i:  3\n",
      "current inner loop i:  4\n",
      "current inner loop i:  5\n",
      "current inner loop i:  6\n",
      "current inner loop i:  7\n",
      "current inner loop i:  8\n",
      "current inner loop i:  9\n",
      "current inner loop i:  10\n",
      "current inner loop i:  11\n",
      "current inner loop i:  12\n",
      "current inner loop i:  13\n",
      "current inner loop i:  14\n",
      "current inner loop i:  15\n",
      "current kdnodes:  32\n",
      "current inner loop i:  0\n",
      "current inner loop i:  1\n",
      "current inner loop i:  2\n",
      "current inner loop i:  3\n",
      "current inner loop i:  4\n",
      "current inner loop i:  5\n",
      "current inner loop i:  6\n",
      "current inner loop i:  7\n",
      "current inner loop i:  8\n",
      "current inner loop i:  9\n",
      "current inner loop i:  10\n",
      "current inner loop i:  11\n",
      "current inner loop i:  12\n",
      "current inner loop i:  13\n",
      "current inner loop i:  14\n",
      "current inner loop i:  15\n",
      "current inner loop i:  16\n",
      "current inner loop i:  17\n",
      "current inner loop i:  18\n",
      "current inner loop i:  19\n",
      "current inner loop i:  20\n",
      "current inner loop i:  21\n",
      "current inner loop i:  22\n",
      "current inner loop i:  23\n",
      "current inner loop i:  24\n",
      "current inner loop i:  25\n",
      "current inner loop i:  26\n",
      "current inner loop i:  27\n",
      "current inner loop i:  28\n",
      "current inner loop i:  29\n",
      "current inner loop i:  30\n",
      "current inner loop i:  31\n",
      "current kdnodes:  64\n",
      "current inner loop i:  0\n",
      "current inner loop i:  1\n",
      "current inner loop i:  2\n",
      "current inner loop i:  3\n",
      "current inner loop i:  4\n",
      "current inner loop i:  5\n",
      "training time for Qd-Tree (s):  6.348938226699829\n",
      "Qd-Tree leaf nodes:  68\n",
      "average partitions each query overlap(average):  1.6\n",
      "average records each query retrieve(average):  171874.52\n",
      "total records that all the queries retrieve:  8593726\n",
      "average partitions each query overlap(average):  1.08\n",
      "average records each query retrieve(average):  64420.02\n",
      "total records that all the queries retrieve:  3221001\n"
     ]
    }
   ],
   "source": [
    "# = = = Qd-Tree = = =\n",
    "start_time = time.time()\n",
    "\n",
    "qdtree_kdnodes = Qd_tree_greedy_optimized_approximate(dataset, training_set, domains, block_size, bins=(4000,1000))\n",
    "\n",
    "end_time = time.time()\n",
    "print(\"training time for Qd-Tree (s): \", end_time-start_time)\n",
    "print('Qd-Tree leaf nodes: ',len(qdtree_kdnodes))\n",
    "\n",
    "# Qd-Tree Query\n",
    "Query(testing_set, qdtree_kdnodes)\n",
    "Query(training_set, qdtree_kdnodes)\n",
    "\n",
    "# Save Partition\n",
    "saved_qdtree_partitions = save_partitions_to_file(qdtree_kdnodes, qdtree_path)"
   ]
  },
  {
   "cell_type": "code",
   "execution_count": 146,
   "metadata": {},
   "outputs": [],
   "source": [
    "# = = = NORA = = =\n",
    "from LKD_Robust import *\n",
    "\n",
    "# Configuration\n",
    "data_threshold = block_size\n",
    "query_threshold = 2\n",
    "hist_m, hist_n = 1000, 1000\n",
    "nora_partition_base_path = 'C:/Users/Cloud/iCloudDrive/HUAWEI_LKD/HDFSExperiment/generated_partitions/'\n",
    "nora_path = nora_partition_base_path + 'nora_partitions_' + str(scale_factor)"
   ]
  },
  {
   "cell_type": "code",
   "execution_count": 147,
   "metadata": {},
   "outputs": [
    {
     "name": "stdout",
     "output_type": "stream",
     "text": [
      "training time for NORA (s):  7.714357137680054\n",
      "NORA leaf nodes:  421\n",
      "average partitions each query overlap(average):  3.94\n",
      "average records each query retrieve(average):  52381.18\n",
      "total records that all the queries retrieve:  2619059\n",
      "average partitions each query overlap(average):  2.76\n",
      "average records each query retrieve(average):  37576.68\n",
      "total records that all the queries retrieve:  1878834\n"
     ]
    }
   ],
   "source": [
    "# = = = NORA = = =\n",
    "start_time = time.time()\n",
    "\n",
    "nora_kdnodes, kdnode_dict, accu_count_list, kdnode_idx, query_idx, query_hist = LKD_Robust_Initialization(\n",
    "    dataset, training_set, domains, data_threshold, query_threshold, hist_m, hist_n, random_query_percentage = 0.5)\n",
    "\n",
    "end_time = time.time()\n",
    "print(\"training time for NORA (s): \", end_time-start_time)\n",
    "print('NORA leaf nodes: ',len(nora_kdnodes))\n",
    "\n",
    "# NORA Query\n",
    "Query(testing_set, nora_kdnodes)\n",
    "Query(training_set, nora_kdnodes)\n",
    "\n",
    "# Save Partition\n",
    "saved_nora_partitions = save_partitions_to_file(nora_kdnodes, nora_path)"
   ]
  },
  {
   "cell_type": "code",
   "execution_count": 148,
   "metadata": {
    "collapsed": true
   },
   "outputs": [],
   "source": [
    "# = = = Visualization = = =\n",
    "from Utils import *\n",
    "qdtree_kdnodes = load_partitions_from_file(qdtree_path)\n",
    "nora_kdnodes = load_partitions_from_file(nora_path)"
   ]
  },
  {
   "cell_type": "code",
   "execution_count": 149,
   "metadata": {},
   "outputs": [
    {
     "data": {
      "image/png": "[encoded data removed]",
      "text/plain": [
       "<Figure size 432x288 with 1 Axes>"
      ]
     },
     "metadata": {},
     "output_type": "display_data"
    },
    {
     "data": {
      "image/png": "[encoded data removed]",
      "text/plain": [
       "<Figure size 432x288 with 1 Axes>"
      ]
     },
     "metadata": {},
     "output_type": "display_data"
    }
   ],
   "source": [
    "# testing set, Qd-Tree\n",
    "visualize_kdnodes_and_query_2(qdtree_kdnodes, distribution_query[distribution_segmentation:], random_query[random_segmentation:], domains) \n",
    "# testing set, NORA\\\n",
    "visualize_kdnodes_and_query_2(nora_kdnodes, distribution_query[distribution_segmentation:], random_query[random_segmentation:], domains)"
   ]
  },
  {
   "cell_type": "code",
   "execution_count": 150,
   "metadata": {},
   "outputs": [
    {
     "data": {
      "image/png": "[encoded data removed]",
      "text/plain": [
       "<Figure size 432x288 with 1 Axes>"
      ]
     },
     "metadata": {},
     "output_type": "display_data"
    },
    {
     "data": {
      "image/png": "[encoded data removed]",
      "text/plain": [
       "<Figure size 432x288 with 1 Axes>"
      ]
     },
     "metadata": {},
     "output_type": "display_data"
    }
   ],
   "source": [
    "# training set, Qd-Tree\n",
    "visualize_kdnodes_and_query_2(qdtree_kdnodes, distribution_query[0:distribution_segmentation], random_query[0:random_segmentation], domains) \n",
    "# training set, NORA\n",
    "visualize_kdnodes_and_query_2(nora_kdnodes, distribution_query[0:distribution_segmentation], random_query[0:random_segmentation], domains)"
   ]
  },
  {
   "cell_type": "code",
   "execution_count": 135,
   "metadata": {
    "collapsed": true
   },
   "outputs": [],
   "source": [
    "# consider the border of some queries?"
   ]
  },
  {
   "cell_type": "code",
   "execution_count": null,
   "metadata": {
    "collapsed": true
   },
   "outputs": [],
   "source": []
  }
 ],
 "metadata": {
  "kernelspec": {
   "display_name": "Python 3",
   "language": "python",
   "name": "python3"
  },
  "language_info": {
   "codemirror_mode": {
    "name": "ipython",
    "version": 3
   },
   "file_extension": ".py",
   "mimetype": "text/x-python",
   "name": "python",
   "nbconvert_exporter": "python",
   "pygments_lexer": "ipython3",
   "version": "3.6.10"
  }
 },
 "nbformat": 4,
 "nbformat_minor": 2
}
