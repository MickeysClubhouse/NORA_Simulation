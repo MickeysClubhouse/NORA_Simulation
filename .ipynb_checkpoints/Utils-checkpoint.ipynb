{
 "cells": [
  {
   "cell_type": "code",
   "execution_count": 1,
   "metadata": {
    "collapsed": true
   },
   "outputs": [],
   "source": [
    "import import_ipynb\n",
    "import numpy as np\n",
    "from numpy import genfromtxt"
   ]
  },
  {
   "cell_type": "code",
   "execution_count": 57,
   "metadata": {
    "collapsed": true
   },
   "outputs": [],
   "source": [
    "def save_partitions_to_file(kdnodes, path):\n",
    "    '''\n",
    "    stretch sub_domains in to one row\n",
    "    @kdnodes[i][sub_domains, len(sub_dataset1), id, parent_id, left_child_id, right_child_id]\n",
    "    return:\n",
    "    @stretched_kdnodes [num_dims, l1,l2,...,ln, u1,u2,...,un, size, id, pid, left_child,id, right_child_id]\n",
    "    '''\n",
    "    stretched_kdnodes = []\n",
    "    num_dims = len(kdnodes[0][0])\n",
    "    \n",
    "    for i in range(len(kdnodes)):\n",
    "        row = [num_dims]\n",
    "        domains_lower = [d[0] for d in kdnodes[i][0]]\n",
    "        domains_upper = [d[1] for d in kdnodes[i][0]]\n",
    "        \n",
    "        for dl in domains_lower:\n",
    "            row.append(dl)\n",
    "        for du in domains_upper:\n",
    "            row.append(du)\n",
    "        \n",
    "        row.append(kdnodes[i][1])\n",
    "        \n",
    "        # to be compatible with qd-tree's partition, that do not have the last 4 attributes\n",
    "        if len(kdnodes[i]) > 2:\n",
    "            row.append(kdnodes[i][-4])\n",
    "            row.append(kdnodes[i][-3])\n",
    "            row.append(kdnodes[i][-2])\n",
    "            row.append(kdnodes[i][-1])\n",
    "            \n",
    "        stretched_kdnodes.append(row)\n",
    "    \n",
    "    stretched_kdnodes = np.array(stretched_kdnodes)\n",
    "    np.savetxt(path, stretched_kdnodes, delimiter=',')\n",
    "    return stretched_kdnodes\n",
    "\n",
    "def load_partitions_from_file(path):\n",
    "    '''\n",
    "    the loaded stretched_kdnodes: [num_dims, l1,l2,...,ln, u1,u2,...,un, size, id, pid, left_child,id, right_child_id]\n",
    "    '''\n",
    "    stretched_kdnodes = genfromtxt(path, delimiter=',')\n",
    "    num_dims = int(stretched_kdnodes[0,0])\n",
    "    kdnodes = []\n",
    "    \n",
    "    for i in range(len(stretched_kdnodes)):\n",
    "        domains = [ [stretched_kdnodes[i,k+1],stretched_kdnodes[i,2*k+1]] for k in range(num_dims) ]\n",
    "        row = [domains]\n",
    "        row.append(stretched_kdnodes[i,2*num_dims+1])\n",
    "        \n",
    "        # to be compatible with qd-tree's partition, that do not have the last 4 attributes\n",
    "        if len(stretched_kdnodes[i]) > 2*num_dims+2:\n",
    "            row.append(stretched_kdnodes[i,-4])\n",
    "            row.append(stretched_kdnodes[i,-3])\n",
    "            row.append(stretched_kdnodes[i,-2])\n",
    "            row.append(stretched_kdnodes[i,-1])\n",
    "    \n",
    "        kdnodes.append(row)\n",
    "    \n",
    "    return kdnodes"
   ]
  },
  {
   "cell_type": "code",
   "execution_count": 64,
   "metadata": {
    "collapsed": true
   },
   "outputs": [],
   "source": [
    "def save_partition_dict_to_file(kdnode_dict, path):\n",
    "    stretched_kdnodes = []\n",
    "    \n",
    "    for pid, partition in kdnode_dict.items():\n",
    "        row = [len(partition[0])]\n",
    "        domains_lower = [d[0] for d in partition[0]]\n",
    "        domains_upper = [d[1] for d in partition[0]]\n",
    "\n",
    "        for dl in domains_lower:\n",
    "            row.append(dl)\n",
    "        for du in domains_upper:\n",
    "            row.append(du)\n",
    "            \n",
    "        row.append(partition[-5])\n",
    "        row.append(partition[-4])\n",
    "        row.append(partition[-3])\n",
    "        row.append(partition[-2])\n",
    "        row.append(partition[-1])\n",
    "            \n",
    "        stretched_kdnodes.append(row)\n",
    "        \n",
    "    stretched_kdnodes = np.array(stretched_kdnodes)\n",
    "    np.savetxt(path, stretched_kdnodes, delimiter=',')\n",
    "    return stretched_kdnodes\n",
    "\n",
    "def load_partition_dict_from_file(path):\n",
    "    '''\n",
    "    return:\n",
    "    @kdnode_dict: pid: kdnode\n",
    "    @kdnodes: all the kdnode is the above dict, inlcuding those non-leaf records\n",
    "    '''\n",
    "    stretched_kdnodes = genfromtxt(path, delimiter=',')\n",
    "    num_dims = int(stretched_kdnodes[0,0])\n",
    "    kdnodes = [] # notice the kdnodes here may contain those non-leaf records!!!\n",
    "    kdnode_dict = {}\n",
    "    \n",
    "    for i in range(len(stretched_kdnodes)):\n",
    "        domains = [ [stretched_kdnodes[i,k+1],stretched_kdnodes[i,2*k+1]] for k in range(num_dims) ]\n",
    "        row = [domains]\n",
    "        row.append(stretched_kdnodes[i,-5])\n",
    "        row.append(stretched_kdnodes[i,-4])\n",
    "        row.append(stretched_kdnodes[i,-3])\n",
    "        row.append(stretched_kdnodes[i,-2])\n",
    "        row.append(stretched_kdnodes[i,-1])\n",
    "    \n",
    "        kdnodes.append(row)\n",
    "        kdnode_dict.update({row[-4]:row})\n",
    "    \n",
    "    return kdnode_dict, kdnodes"
   ]
  },
  {
   "cell_type": "code",
   "execution_count": 58,
   "metadata": {
    "collapsed": true
   },
   "outputs": [],
   "source": [
    "# test_partition = [ [[[0,1],[0,2]],10,1,-1,2,3],\n",
    "#                  [[[0,11],[0,22]],10,2,-1,4,5],\n",
    "#                  [[[0,121],[0,232]],10,3,-1,7,8]]\n",
    "# sp = save_partitions_to_file(test_partition, 'C:/Users/Cloud/iCloudDrive/HUAWEI_LKD/Dataset/Legacy/data/test.csv')\n",
    "# print(sp)\n",
    "# kdnodes = load_partitions_from_file('C:/Users/Cloud/iCloudDrive/HUAWEI_LKD/Dataset/Legacy/data/test.csv')\n",
    "# print(kdnodes)"
   ]
  },
  {
   "cell_type": "code",
   "execution_count": 61,
   "metadata": {
    "collapsed": true
   },
   "outputs": [],
   "source": [
    "# kdnode_dict = {1: [[[0,1],[0,2]],10,1,-1,2,3],\n",
    "#               2: [[[0,11],[0,22]],10,2,-1,4,5],\n",
    "#               3:[[[0,121],[0,232]],10,3,-1,7,8]}\n",
    "# kdnodes = save_partition_dict_to_file(kdnode_dict, 'C:/Users/Cloud/iCloudDrive/HUAWEI_LKD/Dataset/Legacy/data/test.csv')\n",
    "# print(kdnodes)\n",
    "# kdn_dict, kdn = load_partition_dict_from_file('C:/Users/Cloud/iCloudDrive/HUAWEI_LKD/Dataset/Legacy/data/test.csv')\n",
    "# print(kdn_dict)\n",
    "# print(kdn)"
   ]
  },
  {
   "cell_type": "code",
   "execution_count": null,
   "metadata": {
    "collapsed": true
   },
   "outputs": [],
   "source": []
  }
 ],
 "metadata": {
  "kernelspec": {
   "display_name": "Python 3",
   "language": "python",
   "name": "python3"
  },
  "language_info": {
   "codemirror_mode": {
    "name": "ipython",
    "version": 3
   },
   "file_extension": ".py",
   "mimetype": "text/x-python",
   "name": "python",
   "nbconvert_exporter": "python",
   "pygments_lexer": "ipython3",
   "version": "3.6.10"
  }
 },
 "nbformat": 4,
 "nbformat_minor": 2
}
