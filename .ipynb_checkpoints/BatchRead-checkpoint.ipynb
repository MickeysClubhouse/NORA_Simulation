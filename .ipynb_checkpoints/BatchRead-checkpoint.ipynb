{
 "cells": [
  {
   "cell_type": "code",
   "execution_count": 7,
   "metadata": {
    "collapsed": true
   },
   "outputs": [],
   "source": [
    "import time\n",
    "from numpy import genfromtxt"
   ]
  },
  {
   "cell_type": "code",
   "execution_count": 8,
   "metadata": {},
   "outputs": [
    {
     "name": "stdout",
     "output_type": "stream",
     "text": [
      "- - - 0 - - - \n",
      "load time:  0.7495675086975098\n",
      "- - - 1 - - - \n",
      "load time:  0.8139548301696777\n",
      "- - - 2 - - - \n",
      "load time:  0.855985164642334\n",
      "- - - 3 - - - \n",
      "load time:  0.9320805072784424\n",
      "- - - 4 - - - \n",
      "load time:  1.012078046798706\n",
      "- - - 5 - - - \n",
      "load time:  1.1780333518981934\n",
      "- - - 6 - - - \n",
      "load time:  1.167330026626587\n",
      "- - - 7 - - - \n",
      "load time:  1.2551357746124268\n",
      "- - - 8 - - - \n",
      "load time:  1.4044301509857178\n",
      "- - - 9 - - - \n",
      "load time:  1.4435057640075684\n"
     ]
    }
   ],
   "source": [
    "batch_size = 100000\n",
    "TOTAL_SIZE = 100000\n",
    "for i in range(10):\n",
    "    s_time = time.time()\n",
    "    dataset = genfromtxt('C:/Users/Cloud/iCloudDrive/HUAWEI_LKD/Dataset/Legacy/data/TPCH_12M_8Field.csv', delimiter=',',\n",
    "                        skip_header = i*batch_size, max_rows = batch_size)\n",
    "    e_time = time.time()\n",
    "    print('- - -',i,'- - - ')\n",
    "    print('load time: ', e_time - s_time)"
   ]
  },
  {
   "cell_type": "code",
   "execution_count": null,
   "metadata": {
    "collapsed": true
   },
   "outputs": [],
   "source": [
    "# conclusion: numpy method is not good"
   ]
  },
  {
   "cell_type": "code",
   "execution_count": 9,
   "metadata": {
    "collapsed": true
   },
   "outputs": [],
   "source": [
    "import pandas as pd"
   ]
  },
  {
   "cell_type": "code",
   "execution_count": 13,
   "metadata": {},
   "outputs": [
    {
     "name": "stdout",
     "output_type": "stream",
     "text": [
      "process time:  1.2433969974517822\n",
      "1000000\n",
      "process time:  1.279536247253418\n",
      "1000000\n",
      "process time:  1.2443997859954834\n",
      "1000000\n",
      "process time:  1.2444000244140625\n",
      "1000000\n",
      "process time:  1.1829118728637695\n",
      "1000000\n",
      "process time:  1.1985292434692383\n",
      "1000000\n",
      "process time:  1.2190296649932861\n",
      "1000000\n",
      "process time:  1.2278022766113281\n",
      "1000000\n",
      "process time:  1.246352195739746\n",
      "1000000\n",
      "process time:  1.2473280429840088\n",
      "1000000\n",
      "process time:  1.2580626010894775\n",
      "1000000\n",
      "process time:  1.1985280513763428\n",
      "997995\n"
     ]
    }
   ],
   "source": [
    "last_time = time.time()\n",
    "for chunk_df in pd.read_csv('C:/Users/Cloud/iCloudDrive/HUAWEI_LKD/Dataset/Legacy/data/TPCH_12M_8Field.csv', chunksize=1000000):\n",
    "    current_time = time.time()\n",
    "    print('process time: ',current_time - last_time)\n",
    "    print(len(chunk_df))\n",
    "    last_time = current_time"
   ]
  },
  {
   "cell_type": "code",
   "execution_count": null,
   "metadata": {
    "collapsed": true
   },
   "outputs": [],
   "source": [
    "# conclusion: pandas method for chunk processing is acceptable"
   ]
  }
 ],
 "metadata": {
  "kernelspec": {
   "display_name": "Python 3",
   "language": "python",
   "name": "python3"
  },
  "language_info": {
   "codemirror_mode": {
    "name": "ipython",
    "version": 3
   },
   "file_extension": ".py",
   "mimetype": "text/x-python",
   "name": "python",
   "nbconvert_exporter": "python",
   "pygments_lexer": "ipython3",
   "version": "3.6.10"
  }
 },
 "nbformat": 4,
 "nbformat_minor": 2
}
