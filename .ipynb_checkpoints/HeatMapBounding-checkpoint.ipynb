{
 "cells": [
  {
   "cell_type": "code",
   "execution_count": null,
   "metadata": {},
   "outputs": [],
   "source": [
    "# === Header ===\n",
    "#\n",
    "# @date: 08 / 07 / 2019 (Xi'an)\n",
    "# @author: ZHE LI\n",
    "# @title: HeatMap Bounding\n",
    "#\n",
    "import math\n",
    "import random\n",
    "import statistics\n",
    "import numpy as np\n",
    "from numpy import genfromtxt\n",
    "import matplotlib.pyplot as plt\n",
    "from matplotlib.patches import Rectangle"
   ]
  },
  {
   "cell_type": "code",
   "execution_count": null,
   "metadata": {},
   "outputs": [],
   "source": [
    "# === Data Loading ===\n",
    "original_domains = [\\\n",
    "    [1,1.20000000e+07],\\\n",
    "    [1,4.00000000e+05],\\\n",
    "    [1,2.00000000e+04],\\\n",
    "    [1,7.00000000e+00],\\\n",
    "    [1,5.00000000e+01],\\\n",
    "    [900.99,1.04899500e+05],\\\n",
    "    [0,1.00000000e-01],\\\n",
    "    [0,8.00000000e-02]\\\n",
    "]\n",
    "original_domains = np.asarray(original_domains)\n",
    "original_dataset = genfromtxt('/Users/lizhe/Desktop/LearnedKDTree/DataAndWorkload/SyntheticData/TPCH_12M_8Field.csv', delimiter=',')"
   ]
  },
  {
   "cell_type": "code",
   "execution_count": null,
   "metadata": {},
   "outputs": [],
   "source": [
    "# === Global Configuration ===\n",
    "\n",
    "# dimension for query and build learned KD-Tree\n",
    "used_dimensions = [1,2]\n",
    "\n",
    "# testing set percentage\n",
    "testing_set_percentage = 0.2\n",
    "\n",
    "# maximum expected ranges\n",
    "ranges_ = [10000, 500]\n",
    "\n",
    "# maximum expected sigma\n",
    "sigmas_ = [1000,50]\n",
    "\n",
    "# clusters amount\n",
    "cluster_amount_ = 100\n",
    "\n",
    "# queries in each cluster\n",
    "queries_each_cluster_ = 10\n",
    "\n",
    "# page block size\n",
    "block_size = 32000\n",
    "\n",
    "domains_ = np.copy(original_domains)\n",
    "domains_ = domains_[used_dimensions]\n",
    "dataset = np.copy(original_dataset)\n",
    "dataset = dataset[:,used_dimensions]"
   ]
  },
  {
   "cell_type": "code",
   "execution_count": null,
   "metadata": {},
   "outputs": [],
   "source": [
    "# Heat Map Generation\n"
   ]
  }
 ],
 "metadata": {
  "kernelspec": {
   "display_name": "Python 3",
   "language": "python",
   "name": "python3"
  },
  "language_info": {
   "codemirror_mode": {
    "name": "ipython",
    "version": 3
   },
   "file_extension": ".py",
   "mimetype": "text/x-python",
   "name": "python",
   "nbconvert_exporter": "python",
   "pygments_lexer": "ipython3",
   "version": "3.6.3"
  }
 },
 "nbformat": 4,
 "nbformat_minor": 2
}
