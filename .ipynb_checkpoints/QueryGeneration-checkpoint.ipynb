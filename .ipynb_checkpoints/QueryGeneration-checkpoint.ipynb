{
 "cells": [
  {
   "cell_type": "code",
   "execution_count": 1,
   "metadata": {
    "collapsed": true
   },
   "outputs": [],
   "source": [
    "import random\n",
    "import numpy as np\n",
    "import matplotlib.pyplot as plt\n",
    "from matplotlib.patches import Rectangle"
   ]
  },
  {
   "cell_type": "code",
   "execution_count": 22,
   "metadata": {
    "collapsed": true
   },
   "outputs": [],
   "source": [
    "# === Query Visualization ===\n",
    "#\n",
    "# plot the queries, only in 2D\n",
    "#\n",
    "# @query_collection: could be more than 2 dimensions, but only plot the first 2 dimensions\n",
    "# @domains: the domain of the plot dimensions, shoud be corresponding with the order of plotdim\n",
    "#\n",
    "def plot_queries_2d(query_collection, domains):\n",
    "    \n",
    "    fig, ax = plt.subplots(1)\n",
    "    \n",
    "    plt.xlim(domains[0][0],domains[0][1])\n",
    "    plt.ylim(domains[1][0],domains[1][1])\n",
    "\n",
    "    query_size = len(query_collection)\n",
    "    for i in range(query_size):\n",
    "        lower1 = query_collection[i][0][0]\n",
    "        upper1 = query_collection[i][0][1]\n",
    "        lower2 = query_collection[i][1][0]\n",
    "        upper2 = query_collection[i][1][1]\n",
    "        rect = Rectangle((lower1,lower2),upper1-lower1,upper2-lower2,fill=False,edgecolor='r',linewidth=1)\n",
    "        ax.add_patch(rect)\n",
    "    \n",
    "    plt.show()\n",
    "\n",
    "# plot_queries_2d(query_collection, domains_)\n",
    "# plot_queries_2d(training_set, domains_)\n",
    "# plot_queries_2d(testing_set, domains_)\n",
    "\n",
    "def plot_queries_2d_distribution_and_random(query_distribution, query_random, domains, path=None):\n",
    "    fig, ax = plt.subplots(1)\n",
    "    \n",
    "    plt.xlim(domains[0][0],domains[0][1])\n",
    "    plt.ylim(domains[1][0],domains[1][1])\n",
    "\n",
    "    for i in range(len(query_random)):\n",
    "        lower1 = query_random[i][0][0]\n",
    "        upper1 = query_random[i][0][1]\n",
    "        lower2 = query_random[i][1][0]\n",
    "        upper2 = query_random[i][1][1]\n",
    "        rect = Rectangle((lower1,lower2),upper1-lower1,upper2-lower2,fill=False,edgecolor='b',linewidth=1)\n",
    "        ax.add_patch(rect)\n",
    "    \n",
    "    for i in range(len(query_distribution)):\n",
    "        lower1 = query_distribution[i][0][0]\n",
    "        upper1 = query_distribution[i][0][1]\n",
    "        lower2 = query_distribution[i][1][0]\n",
    "        upper2 = query_distribution[i][1][1]\n",
    "        rect = Rectangle((lower1,lower2),upper1-lower1,upper2-lower2,fill=False,edgecolor='r',linewidth=1)\n",
    "        ax.add_patch(rect)\n",
    "    \n",
    "    if path != None:\n",
    "        fig.savefig(path)\n",
    "        \n",
    "    plt.show()"
   ]
  },
  {
   "cell_type": "code",
   "execution_count": 3,
   "metadata": {
    "collapsed": true
   },
   "outputs": [],
   "source": [
    "def save_query(queryset, path):\n",
    "    queryset = np.array(queryset)\n",
    "    queryset_save_version = queryset.reshape(len(queryset),-1)\n",
    "    np.savetxt(path, queryset_save_version)\n",
    "\n",
    "def load_query(path):\n",
    "    query_set = np.genfromtxt(path, delimiter=' ')\n",
    "    query_set = query_set.reshape(len(query_set),-1,2)\n",
    "    return query_set"
   ]
  },
  {
   "cell_type": "code",
   "execution_count": 5,
   "metadata": {
    "collapsed": true
   },
   "outputs": [],
   "source": [
    "# === Query Generation ===\n",
    "#\n",
    "# by default, use Gaussian distribution to generate the synthetic query workload\n",
    "#\n",
    "# @cluster_amount: the cluster amount of the query; integer\n",
    "# @queries_in_each_cluster: the number of queries in each cluster; interger\n",
    "# @dimensions: the domain of each dimension; numpy object\n",
    "# @maximum_expected_range: the maximum expected range of each dimension; array object\n",
    "# @maximum_sigma: the maximum sigma of Gaussian distribution of each dimension; array object\n",
    "#\n",
    "# return @temp_queries: array object\n",
    "#\n",
    "def generate_query_clustered(cluster_amount, queries_in_each_cluster, dimensions, maximum_expected_range, maximum_sigma, percentage):\n",
    "    random.seed()\n",
    "    num_dims = len(dimensions)\n",
    "    \n",
    "    queries = []\n",
    "    for j in range(num_dims):\n",
    "        queries.append([])\n",
    "    \n",
    "    # for each cluster\n",
    "    for i in range(cluster_amount):\n",
    "        \n",
    "        # determin the cluster center on each dimension\n",
    "        cluster_center = []\n",
    "        \n",
    "        # for each dimension\n",
    "        for j in range(num_dims):\n",
    "            \n",
    "            # to assure the distribution do not exceed the border\n",
    "            dim_range = dimensions[j][1]-dimensions[j][0]\n",
    "            center1D = random.randrange(dim_range)\n",
    "            cluster_center.append(center1D)\n",
    "            \n",
    "            query_range = random.randrange(maximum_expected_range[j])\n",
    "            range_lower = center1D - query_range/2\n",
    "            range_upper = center1D + query_range/2\n",
    "            \n",
    "            if range_lower <= dimensions[j][0]:\n",
    "                range_lower = dimensions[j][0]\n",
    "            if range_upper >= dimensions[j][1]:\n",
    "                range_upper = dimensions[j][1]\n",
    "            \n",
    "            sigma = random.randrange(maximum_sigma[j])\n",
    "            \n",
    "            # for each query\n",
    "            for k in range(queries_in_each_cluster):\n",
    "                \n",
    "                # determine if to let this query dimension invalid by percentage (i.e., cover the entire domain)\n",
    "                possibility = random.uniform(0, 1)\n",
    "                if possibility > percentage[j]:\n",
    "                    lower1D = dimensions[j][0]\n",
    "                    upper1D = dimensions[j][1]\n",
    "                    queries[j].append([lower1D, upper1D])\n",
    "                else:\n",
    "                    #determin the lower bound\n",
    "                    lower1D = random.gauss(range_lower, sigma)\n",
    "                    upper1D = random.gauss(range_upper, sigma)\n",
    "                    if lower1D <= dimensions[j][0]:\n",
    "                        lower1D = dimensions[j][0]\n",
    "                    if lower1D >= dimensions[j][1]:\n",
    "                        lower1D = dimensions[j][1]\n",
    "                    if upper1D <= dimensions[j][0]:\n",
    "                        upper1D = dimensions[j][0]\n",
    "                    if upper1D >= dimensions[j][1]:\n",
    "                        upper1D = dimensions[j][1]\n",
    "                    if lower1D > upper1D:\n",
    "                        lower1D, upper1D = upper1D, lower1D\n",
    "                    queries[j].append([lower1D, upper1D])\n",
    "                \n",
    "    # transform the query structure\n",
    "    temp_queries = []\n",
    "    values = []\n",
    "    for i in range(len(queries[0])):\n",
    "        for j in range(num_dims):\n",
    "            values.append(queries[j][i])\n",
    "        temp_queries.append(values)\n",
    "        values=[]\n",
    "            \n",
    "    # return queries\n",
    "    return temp_queries"
   ]
  },
  {
   "cell_type": "code",
   "execution_count": 6,
   "metadata": {
    "collapsed": true
   },
   "outputs": [],
   "source": [
    "# # Example of usage (Generate Query)\n",
    "\n",
    "# #@pysnooper.snoop()\n",
    "# def query_seperation(query_collection, training_set_percentage = 0.8):\n",
    "#     np.random.shuffle(query_collection)\n",
    "#     training_set_size = int(training_set_percentage * len(query_collection))\n",
    "#     query_collection = np.asarray(query_collection) # as the shuffle make np to array, we need to make it back\n",
    "#     training_set = query_collection[0:training_set_size,:]\n",
    "#     testing_set = query_collection[training_set_size:-1,:]\n",
    "#     return training_set, testing_set\n",
    "\n",
    "# query_collection = generate_query_clustered(cluster_amount_, queries_each_cluster_, domains_, ranges_, sigmas_, percentage_)\n",
    "\n",
    "# training_set, testing_set = query_seperation(query_collection, 1-testing_set_percentage)\n",
    "\n",
    "# # to save, transfer it to 2D first\n",
    "# training_set_save_version = training_set.reshape(len(training_set),-1)\n",
    "# testing_set_save_version = testing_set.reshape(len(testing_set),-1)\n",
    "\n",
    "# np.savetxt('C:/Users/Cloud/iCloudDrive/HUAWEI_LKD/Dataset/Legacy/query/training.csv', training_set_save_version)\n",
    "# np.savetxt('C:/Users/Cloud/iCloudDrive/HUAWEI_LKD/Dataset/Legacy/query/testing.csv', testing_set_save_version)\n",
    "# # training_set = query_collection\n",
    "# # testing_set = query_collection"
   ]
  },
  {
   "cell_type": "code",
   "execution_count": 7,
   "metadata": {
    "collapsed": true
   },
   "outputs": [],
   "source": [
    "# in this function, we generate query with random queries\n",
    "def generate_random_query(domain, maximum_range, amount):\n",
    "    \n",
    "    total_query = []\n",
    "    for i in range(amount):\n",
    "        query = []\n",
    "        for k in range(len(domain)):\n",
    "            center = random.randrange(domain[k][0], domain[k][1])\n",
    "            query_range = random.uniform(0,maximum_range[k])\n",
    "            range_lower = center - query_range/2\n",
    "            range_upper = center + query_range/2\n",
    "            if range_lower <= domain[k][0]:\n",
    "                range_lower = domain[k][0]\n",
    "            if range_upper >= domain[k][1]:\n",
    "                range_upper = domain[k][1]\n",
    "            query.append([range_lower, range_upper])\n",
    "        total_query.append(query)\n",
    "    return total_query\n",
    "    \n",
    "# generate query with gaussian distribution\n",
    "def generate_distribution_query(domain, cluster_center_amount, maximum_range, maximum_sigma_percentage, amount):\n",
    "    \n",
    "    # first, generate cluster centers\n",
    "    centers = []\n",
    "    for i in range(cluster_center_amount):\n",
    "        center = []\n",
    "        for k in range(len(domain)):\n",
    "            ck = random.randrange(domain[k][0], domain[k][1])\n",
    "            center.append(ck)\n",
    "        centers.append(center)\n",
    "    \n",
    "    # second, generate expected range for each dimension for each center\n",
    "    centers_ranges = []\n",
    "    for i in range(cluster_center_amount):\n",
    "        ranges = []\n",
    "        for k in range(len(domain)):\n",
    "            ran = random.randrange(maximum_range[k])\n",
    "            ranges.append(ran)\n",
    "        centers_ranges.append(ranges)\n",
    "    \n",
    "    # third, generate sigma for each dimension for each center\n",
    "    centers_sigmas = []\n",
    "    for i in range(cluster_center_amount):\n",
    "        sigmas = []\n",
    "        for k in range(len(domain)):\n",
    "            sigma = random.uniform(0, maximum_range[k]*maximum_sigma_percentage[k])\n",
    "            sigmas.append(sigma)\n",
    "        centers_sigmas.append(sigmas)\n",
    "    \n",
    "    # fourth, generate queries\n",
    "    total_query = []\n",
    "    for i in range(amount):\n",
    "        # choose a center\n",
    "        center_index = random.randint(0, cluster_center_amount-1) # this is inclusive\n",
    "        query = []\n",
    "        for k in range(len(domain)):\n",
    "            center = centers[center_index]\n",
    "            query_range = centers_ranges[center_index][k]\n",
    "            range_lower = center[k] - query_range/2\n",
    "            range_upper = center[k] + query_range/2\n",
    "            \n",
    "            range_lower = random.gauss(range_lower, centers_sigmas[center_index][k])\n",
    "            range_upper = random.gauss(range_upper, centers_sigmas[center_index][k])\n",
    "            \n",
    "            if range_lower <= domain[k][0]:\n",
    "                range_lower = domain[k][0]\n",
    "            if range_upper >= domain[k][1]:\n",
    "                range_upper = domain[k][1]\n",
    "            \n",
    "            if range_lower > range_upper:\n",
    "                range_lower, range_upper =  range_upper, range_lower\n",
    "                \n",
    "            query.append([range_lower, range_upper])\n",
    "        total_query.append(query)\n",
    "        \n",
    "    return total_query\n",
    "    \n",
    "def generate_query_with_random(total_query_amount, random_percentage, domain, maximum_range_random, \n",
    "                               cluster_amount, maximum_range_dis, sigmas_percentage, random_shift = False, return_seperate = False):\n",
    "    random.seed()\n",
    "    \n",
    "    num_query_distribution = int(total_query_amount * (1 - random_percentage))\n",
    "    num_query_random = total_query_amount - num_query_distribution\n",
    "    \n",
    "    random_query = generate_random_query(domain, maximum_range_random, num_query_random)\n",
    "    distribution_query = generate_distribution_query(domain, cluster_amount, maximum_range_dis, sigmas_percentage, num_query_distribution)\n",
    "    \n",
    "    total_query = random_query + distribution_query\n",
    "    if random_shift:\n",
    "        random.shuffle(total_query) # will replace the original\n",
    "        \n",
    "    # return random_query, distribution_query\n",
    "    if return_seperate:\n",
    "        return [random_query, distribution_query, total_query]\n",
    "    return total_query"
   ]
  },
  {
   "cell_type": "code",
   "execution_count": 16,
   "metadata": {},
   "outputs": [
    {
     "data": {
      "image/png": "[encoded data removed]",
      "text/plain": [
       "<Figure size 432x288 with 1 Axes>"
      ]
     },
     "metadata": {},
     "output_type": "display_data"
    }
   ],
   "source": [
    "# domain_ = [[1,4.00000000e+05],[1,2.00000000e+04]]\n",
    "# maximum_random_range_ = [20000, 1000]\n",
    "# maximum_range_dis_ = [40000, 2000]\n",
    "# sigmas_percentage_ = [0.3,0.3]\n",
    "# mixed_queris = generate_query_with_random(100, 0.2, domain_, maximum_random_range_, \n",
    "#                                           8, maximum_range_dis_, sigmas_percentage_, False, True)\n",
    "\n",
    "# plot_queries_2d_distribution_and_random(mixed_queris[1], mixed_queris[0], domain_)"
   ]
  },
  {
   "cell_type": "code",
   "execution_count": 23,
   "metadata": {},
   "outputs": [
    {
     "data": {
      "image/png": "[encoded data removed]",
      "text/plain": [
       "<Figure size 432x288 with 1 Axes>"
      ]
     },
     "metadata": {},
     "output_type": "display_data"
    }
   ],
   "source": [
    "# random_query = load_query('C:/Users/Cloud/iCloudDrive/HUAWEI_LKD/Dataset/Robust/query/intro_random.csv')\n",
    "# distribution_query = load_query('C:/Users/Cloud/iCloudDrive/HUAWEI_LKD/Dataset/Robust/query/intro_distribution.csv')\n",
    "# savepath = 'C:/Users/Cloud/iCloudDrive/HUAWEI_LKD/Dataset/Robust/query/intro_fusion.pdf'\n",
    "# plot_queries_2d_distribution_and_random(distribution_query, random_query, domain_, savepath)"
   ]
  },
  {
   "cell_type": "code",
   "execution_count": 18,
   "metadata": {
    "collapsed": true
   },
   "outputs": [],
   "source": [
    "# save_query(mixed_queris[1], 'C:/Users/Cloud/iCloudDrive/HUAWEI_LKD/Dataset/Robust/query/intro_distribution.csv')\n",
    "# save_query(mixed_queris[0], 'C:/Users/Cloud/iCloudDrive/HUAWEI_LKD/Dataset/Robust/query/intro_random.csv')"
   ]
  },
  {
   "cell_type": "code",
   "execution_count": 18,
   "metadata": {
    "collapsed": true
   },
   "outputs": [],
   "source": [
    "# # = = = Unit Test = = =\n",
    "# tiny_domains = [[0,10],[0,10]]\n",
    "# random_queries = generate_random_query(tiny_domains, [2,2], 100)\n",
    "# # print(random_queries)\n",
    "# # plot_queries_2d(random_queries, tiny_domains)"
   ]
  },
  {
   "cell_type": "code",
   "execution_count": 19,
   "metadata": {
    "collapsed": true
   },
   "outputs": [],
   "source": [
    "# # = = = Unit Test = = =\n",
    "# tiny_domains = [[0,10],[0,10]]\n",
    "# distribution_queries = generate_distribution_query(tiny_domains, 10, [3,3], [0.2,0.2], 100)\n",
    "# # print(distribution_queries)\n",
    "# # plot_queries_2d(distribution_queries, tiny_domains)"
   ]
  },
  {
   "cell_type": "code",
   "execution_count": 114,
   "metadata": {},
   "outputs": [
    {
     "data": {
      "image/png": "[encoded data removed]",
      "text/plain": [
       "<Figure size 432x288 with 1 Axes>"
      ]
     },
     "metadata": {},
     "output_type": "display_data"
    }
   ],
   "source": [
    "# plot_queries_2d_distribution_and_random(distribution_queries, random_queries, tiny_domains)"
   ]
  },
  {
   "cell_type": "code",
   "execution_count": 20,
   "metadata": {
    "collapsed": true
   },
   "outputs": [],
   "source": [
    "# # = = = Unit Test = = =\n",
    "# tiny_domains = [[0,10],[0,10]]\n",
    "# fusion_queries = generate_query_with_random(50, 0.5, tiny_domains, [2,2], 3, [3,3], [0.2,0.2])\n",
    "# print(fusion_queries)\n",
    "# plot_queries_2d(fusion_queries, tiny_domains)"
   ]
  },
  {
   "cell_type": "code",
   "execution_count": 28,
   "metadata": {
    "collapsed": true
   },
   "outputs": [],
   "source": [
    "def generate_query_pattern_for_one_user(domain, maximum_range, maximum_sigma_percentage):\n",
    "    random.seed()\n",
    "    # first, generate cluster center\n",
    "    center = []\n",
    "    for k in range(len(domain)):\n",
    "        ck = random.randrange(domain[k][0], domain[k][1])\n",
    "        center.append(ck)\n",
    "        \n",
    "    # second, generate expected range for each dimension\n",
    "    ranges = []\n",
    "    for k in range(len(domain)):\n",
    "        ran = random.randrange(maximum_range[k])\n",
    "        ranges.append(ran)\n",
    "        \n",
    "    # third, generate sigma for each dimension\n",
    "    sigmas = []\n",
    "    for k in range(len(domain)):\n",
    "        sigma = random.uniform(0, maximum_range[k]*maximum_sigma_percentage[k])\n",
    "        sigmas.append(sigma)\n",
    "        \n",
    "    return (center, ranges, sigmas)\n",
    "\n",
    "# generate 1 query\n",
    "def generate_distribution_query_for_one_user(domain, center, ranges, sigmas):\n",
    "    random.seed()\n",
    "    query = []\n",
    "    for k in range(len(domain)):\n",
    "        range_lower = center[k] - ranges[k]/2\n",
    "        range_upper = center[k] + ranges[k]/2\n",
    "\n",
    "        range_lower = random.gauss(range_lower, sigmas[k])\n",
    "        range_upper = random.gauss(range_upper, sigmas[k])\n",
    "\n",
    "        if range_lower <= domain[k][0]:\n",
    "            range_lower = domain[k][0]\n",
    "        if range_upper >= domain[k][1]:\n",
    "            range_upper = domain[k][1]\n",
    "        if range_lower > range_upper:\n",
    "            range_lower, range_upper =  range_upper, range_lower\n",
    "        query.append([range_lower, range_upper])\n",
    "    return query\n",
    "\n",
    "def generate_one_random_query(domain, maximum_range):\n",
    "    random.seed()\n",
    "    query = []\n",
    "    for k in range(len(domain)):\n",
    "        center = random.randrange(domain[k][0], domain[k][1])\n",
    "        query_range = random.uniform(0,maximum_range[k])\n",
    "        range_lower = center - query_range/2\n",
    "        range_upper = center + query_range/2\n",
    "        if range_lower <= domain[k][0]:\n",
    "            range_lower = domain[k][0]\n",
    "        if range_upper >= domain[k][1]:\n",
    "            range_upper = domain[k][1]\n",
    "        if range_lower > range_upper:\n",
    "            range_lower, range_upper =  range_upper, range_lower\n",
    "        query.append([range_lower, range_upper])\n",
    "        \n",
    "    return query\n",
    "\n",
    "# this should generate query with timestamp!\n",
    "# including distribution shift and random query!\n",
    "def continous_query_generation(total_query_amount, initial_users, domain, maximum_range, maximum_sigma_percentage, maximum_range_random, \n",
    "                              sleep_prob_threshold, random_prob_threshold, new_user_threshold, user_remove_threshold,\n",
    "                               active_user_threshold):\n",
    "    random.seed()\n",
    "    \n",
    "    # user_pattern_dict\n",
    "    user_pattern_dict = {}\n",
    "    active_user_dict = {}\n",
    "    \n",
    "    # generate initial user pattern\n",
    "    for i in range(initial_users): \n",
    "        users = [i for i in range(initial_users)]\n",
    "        user_pattern = generate_query_pattern_for_one_user(domain, maximum_range, maximum_sigma_percentage)\n",
    "        user_pattern_dict.update({i:user_pattern})\n",
    "        \n",
    "        active_user_prob = random.uniform(0,1)\n",
    "        if active_user_prob < active_user_threshold:\n",
    "            active_user_dict.update({i:True})\n",
    "        else:\n",
    "            active_user_dict.update({i:False})\n",
    "    \n",
    "    current_user_index = initial_users-1\n",
    "    timestamp = 0\n",
    "    generated_queries = 0\n",
    "    total_queries = []\n",
    "    total_queries_with_features = []\n",
    "\n",
    "    while generated_queries < total_query_amount:\n",
    "        timestamp += 1\n",
    "        is_random = False\n",
    "        user_id = -1 # indicate random query\n",
    "        \n",
    "        # skip this round\n",
    "        sleep_prob = random.uniform(0,1)\n",
    "        if sleep_prob < sleep_prob_threshold:\n",
    "            continue\n",
    "        \n",
    "        new_query = []\n",
    "        # consider if generate random query\n",
    "        random_prob = random.uniform(0,1)\n",
    "        if random_prob < random_prob_threshold:\n",
    "            new_query = generate_one_random_query(domain, maximum_range_random)\n",
    "            is_random = True\n",
    "        else:\n",
    "            # generate distribution query\n",
    "            new_user_prob = random.uniform(0,1)\n",
    "            if new_user_prob < new_user_threshold:\n",
    "                # create new user\n",
    "                current_user_index += 1\n",
    "                user_id = current_user_index\n",
    "                users.append(current_user_index)\n",
    "                new_user_pattern = generate_query_pattern_for_one_user(domain, maximum_range, maximum_sigma_percentage)\n",
    "                user_pattern_dict.update({current_user_index:new_user_pattern})\n",
    "                new_query = generate_distribution_query_for_one_user(domain, new_user_pattern[0], new_user_pattern[1], new_user_pattern[2])\n",
    "                active_user_prob = random.uniform(0,1)\n",
    "                if active_user_prob < active_user_threshold:\n",
    "                    active_user_dict.update({current_user_index:True})\n",
    "                else:\n",
    "                    active_user_dict.update({current_user_index:False})\n",
    "            else:\n",
    "                user_index_index = random.randrange(0, len(users)-1)\n",
    "                user_index = users[user_index_index]\n",
    "                user_id = user_index\n",
    "                user_pattern = user_pattern_dict[user_index]\n",
    "                new_query = generate_distribution_query_for_one_user(domain, user_pattern[0], user_pattern[1], user_pattern[2])\n",
    "    \n",
    "        generated_queries += 1\n",
    "        total_queries.append(new_query)\n",
    "        total_queries_with_features.append([new_query, is_random, user_id, timestamp])\n",
    "        \n",
    "        # consider remove the oldest user\n",
    "        for i in reversed(range(int(len(users)/5))):\n",
    "            user_remove_prob = random.uniform(0,1)\n",
    "            if user_remove_prob < user_remove_threshold and active_user_dict[users[i]] == False:\n",
    "                # remove the last user\n",
    "                user_index = users[i]\n",
    "                del user_pattern_dict[user_index]\n",
    "                del users[i]\n",
    "        \n",
    "    return total_queries, total_queries_with_features, users"
   ]
  },
  {
   "cell_type": "code",
   "execution_count": 22,
   "metadata": {
    "collapsed": true
   },
   "outputs": [],
   "source": [
    "# # = = = Unit Test = = =\n",
    "# tiny_domains = [[0,10],[0,10]]\n",
    "# continous_fusion_queries, continous_fusion_queries_features, users = continous_query_generation(\n",
    "#     200, 10, tiny_domains, [4,4], [0.1,0.1], [2,2], 0.4, 0.2, 0.1, 0.1, 0.1)\n",
    "# print(continous_fusion_queries)"
   ]
  },
  {
   "cell_type": "code",
   "execution_count": 58,
   "metadata": {},
   "outputs": [
    {
     "data": {
      "image/png": "[encoded data removed]",
      "text/plain": [
       "<Figure size 432x288 with 1 Axes>"
      ]
     },
     "metadata": {},
     "output_type": "display_data"
    }
   ],
   "source": [
    "# plot_queries_2d(continous_fusion_queries, tiny_domains)"
   ]
  },
  {
   "cell_type": "code",
   "execution_count": 59,
   "metadata": {},
   "outputs": [
    {
     "data": {
      "image/png": "[encoded data removed]",
      "text/plain": [
       "<Figure size 432x288 with 1 Axes>"
      ]
     },
     "metadata": {},
     "output_type": "display_data"
    },
    {
     "data": {
      "image/png": "[encoded data removed]",
      "text/plain": [
       "<Figure size 432x288 with 1 Axes>"
      ]
     },
     "metadata": {},
     "output_type": "display_data"
    },
    {
     "data": {
      "image/png": "[encoded data removed]",
      "text/plain": [
       "<Figure size 432x288 with 1 Axes>"
      ]
     },
     "metadata": {},
     "output_type": "display_data"
    },
    {
     "data": {
      "image/png": "[encoded data removed]",
      "text/plain": [
       "<Figure size 432x288 with 1 Axes>"
      ]
     },
     "metadata": {},
     "output_type": "display_data"
    }
   ],
   "source": [
    "# plot_queries_2d(continous_fusion_queries[0:55], tiny_domains)\n",
    "# plot_queries_2d(continous_fusion_queries[50:100], tiny_domains)\n",
    "# plot_queries_2d(continous_fusion_queries[100:150], tiny_domains)\n",
    "# plot_queries_2d(continous_fusion_queries[150:200], tiny_domains)"
   ]
  },
  {
   "cell_type": "code",
   "execution_count": 29,
   "metadata": {
    "collapsed": true
   },
   "outputs": [],
   "source": [
    "# domain = [[1,4.00000000e+05],[1,2.00000000e+04]] # second and third dim\n",
    "# continous_fusion_queries, continous_fusion_queries_features, users = continous_query_generation(\n",
    "#     200, 5, domain, [40000, 2000], [0.1,0.1], [10000, 500], 0.4, 0.2, 0.1, 0.1, 0.1)"
   ]
  },
  {
   "cell_type": "code",
   "execution_count": 30,
   "metadata": {
    "collapsed": true
   },
   "outputs": [],
   "source": [
    "# save_query(continous_fusion_queries, 'C:/Users/Cloud/iCloudDrive/HUAWEI_LKD/Dataset/Robust/query/continous_fusion.csv')"
   ]
  },
  {
   "cell_type": "code",
   "execution_count": 31,
   "metadata": {},
   "outputs": [
    {
     "data": {
      "image/png": "[encoded data removed]",
      "text/plain": [
       "<Figure size 432x288 with 1 Axes>"
      ]
     },
     "metadata": {},
     "output_type": "display_data"
    }
   ],
   "source": [
    "# plot_queries_2d(continous_fusion_queries, domain)"
   ]
  },
  {
   "cell_type": "code",
   "execution_count": 32,
   "metadata": {},
   "outputs": [
    {
     "data": {
      "image/png": "[encoded data removed]",
      "text/plain": [
       "<Figure size 432x288 with 1 Axes>"
      ]
     },
     "metadata": {},
     "output_type": "display_data"
    },
    {
     "data": {
      "image/png": "[encoded data removed]",
      "text/plain": [
       "<Figure size 432x288 with 1 Axes>"
      ]
     },
     "metadata": {},
     "output_type": "display_data"
    },
    {
     "data": {
      "image/png": "[encoded data removed]",
      "text/plain": [
       "<Figure size 432x288 with 1 Axes>"
      ]
     },
     "metadata": {},
     "output_type": "display_data"
    },
    {
     "data": {
      "image/png": "[encoded data removed]",
      "text/plain": [
       "<Figure size 432x288 with 1 Axes>"
      ]
     },
     "metadata": {},
     "output_type": "display_data"
    },
    {
     "data": {
      "image/png": "[encoded data removed]",
      "text/plain": [
       "<Figure size 432x288 with 1 Axes>"
      ]
     },
     "metadata": {},
     "output_type": "display_data"
    }
   ],
   "source": [
    "# step = 50\n",
    "# for i in range (5):\n",
    "#     plot_queries_2d(continous_fusion_queries[i*step:(i+1)*step], domain)"
   ]
  },
  {
   "cell_type": "code",
   "execution_count": 5,
   "metadata": {
    "collapsed": true
   },
   "outputs": [],
   "source": [
    "# def lower_upper_check(queryset):\n",
    "#     for i in range(len(queryset)):\n",
    "#         if queryset[i][0][0] > queryset[i][0][1]:\n",
    "#             queryset[i][0][0], queryset[i][0][1] = queryset[i][0][1], queryset[i][0][0]\n",
    "#         if queryset[i][1][0] > queryset[i][1][1]:\n",
    "#             queryset[i][1][0], queryset[i][1][1] = queryset[i][1][1], queryset[i][1][0]"
   ]
  },
  {
   "cell_type": "code",
   "execution_count": 6,
   "metadata": {
    "collapsed": true
   },
   "outputs": [],
   "source": [
    "# random_query = load_query('C:/Users/Cloud/iCloudDrive/HUAWEI_LKD/Dataset/Robust/query/random.csv')\n",
    "# distribution_query = load_query('C:/Users/Cloud/iCloudDrive/HUAWEI_LKD/Dataset/Robust/query/distribution.csv')\n",
    "# fusion_query = load_query('C:/Users/Cloud/iCloudDrive/HUAWEI_LKD/Dataset/Robust/query/fusion.csv')\n",
    "# training_set = load_query('C:/Users/Cloud/iCloudDrive/HUAWEI_LKD/Dataset/Robust/query/training.csv')\n",
    "# testing_set = load_query('C:/Users/Cloud/iCloudDrive/HUAWEI_LKD/Dataset/Robust/query/testing.csv')\n",
    "\n",
    "# lower_upper_check(random_query)\n",
    "# lower_upper_check(distribution_query)\n",
    "# lower_upper_check(fusion_query)\n",
    "# lower_upper_check(training_set)\n",
    "# lower_upper_check(testing_set)\n",
    "\n",
    "# save_query(random_query, 'C:/Users/Cloud/iCloudDrive/HUAWEI_LKD/Dataset/Robust/query/random.csv')\n",
    "# save_query(distribution_query, 'C:/Users/Cloud/iCloudDrive/HUAWEI_LKD/Dataset/Robust/query/distribution.csv')\n",
    "# save_query(fusion_query, 'C:/Users/Cloud/iCloudDrive/HUAWEI_LKD/Dataset/Robust/query/fusion.csv')\n",
    "# save_query(training_set, 'C:/Users/Cloud/iCloudDrive/HUAWEI_LKD/Dataset/Robust/query/training.csv')\n",
    "# save_query(testing_set, 'C:/Users/Cloud/iCloudDrive/HUAWEI_LKD/Dataset/Robust/query/testing.csv')"
   ]
  },
  {
   "cell_type": "code",
   "execution_count": 7,
   "metadata": {
    "collapsed": true
   },
   "outputs": [],
   "source": [
    "# random_query = load_query('C:/Users/Cloud/iCloudDrive/HUAWEI_LKD/Dataset/Robust/query/intro_random.csv')\n",
    "# distribution_query = load_query('C:/Users/Cloud/iCloudDrive/HUAWEI_LKD/Dataset/Robust/query/intro_distribution.csv')\n",
    "\n",
    "# lower_upper_check(random_query)\n",
    "# lower_upper_check(distribution_query)"
   ]
  },
  {
   "cell_type": "code",
   "execution_count": null,
   "metadata": {
    "collapsed": true
   },
   "outputs": [],
   "source": []
  }
 ],
 "metadata": {
  "kernelspec": {
   "display_name": "Python 3",
   "language": "python",
   "name": "python3"
  },
  "language_info": {
   "codemirror_mode": {
    "name": "ipython",
    "version": 3
   },
   "file_extension": ".py",
   "mimetype": "text/x-python",
   "name": "python",
   "nbconvert_exporter": "python",
   "pygments_lexer": "ipython3",
   "version": "3.6.10"
  }
 },
 "nbformat": 4,
 "nbformat_minor": 2
}
